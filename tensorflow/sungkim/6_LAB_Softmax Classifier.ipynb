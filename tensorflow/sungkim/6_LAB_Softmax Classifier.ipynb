{
 "cells": [
  {
   "cell_type": "markdown",
   "metadata": {},
   "source": [
    "# [LAB 6] Softmax Classifier\n",
    "\n",
    "- [실습 동영상 6-1](https://youtu.be/VRnubDzIy3A): Softmax Classifier\n",
    "- [실습 동영상 6-2](https://youtu.be/E-io76NlsqA): Fancy Softmax Classifier\n",
    "- [실습 슬라이드 6](https://docs.google.com/presentation/d/1FPcmOh_gmBw7uyOThFyKwdx7Ua2q8tX0kVFOSwI6kas)\n"
   ]
  }
 ],
 "metadata": {
  "kernelspec": {
   "display_name": "Python 3",
   "language": "python",
   "name": "python3"
  },
  "language_info": {
   "codemirror_mode": {
    "name": "ipython",
    "version": 3
   },
   "file_extension": ".py",
   "mimetype": "text/x-python",
   "name": "python",
   "nbconvert_exporter": "python",
   "pygments_lexer": "ipython3",
   "version": "3.5.4"
  }
 },
 "nbformat": 4,
 "nbformat_minor": 2
}
