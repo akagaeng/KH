{
 "cells": [
  {
   "cell_type": "code",
   "execution_count": 13,
   "metadata": {},
   "outputs": [
    {
     "name": "stdout",
     "output_type": "stream",
     "text": [
      "On branch master\n",
      "Your branch is up-to-date with 'origin/master'.\n",
      "\n",
      "Changes not staged for commit:\n",
      "  (use \"git add <file>...\" to update what will be committed)\n",
      "  (use \"git checkout -- <file>...\" to discard changes in working directory)\n",
      "\n",
      "\t\u001b[31mmodified:   .ipynb_checkpoints/10__Neural Network 2.ipynb-checkpoint.ipynb\u001b[m\n",
      "\t\u001b[31mmodified:   10__Neural Network 2.ipynb.ipynb\u001b[m\n",
      "\n",
      "Untracked files:\n",
      "  (use \"git add <file>...\" to include in what will be committed)\n",
      "\n",
      "\t\u001b[31mimages/lec10/\u001b[m\n",
      "\n",
      "no changes added to commit (use \"git add\" and/or \"git commit -a\")\n"
     ]
    }
   ],
   "source": [
    "!git status"
   ]
  },
  {
   "cell_type": "code",
   "execution_count": 14,
   "metadata": {},
   "outputs": [
    {
     "name": "stdout",
     "output_type": "stream",
     "text": [
      "On branch master\n",
      "Your branch is up-to-date with 'origin/master'.\n",
      "\n",
      "Changes to be committed:\n",
      "  (use \"git reset HEAD <file>...\" to unstage)\n",
      "\n",
      "\t\u001b[32mmodified:   .ipynb_checkpoints/10__Neural Network 2.ipynb-checkpoint.ipynb\u001b[m\n",
      "\t\u001b[32mmodified:   10__Neural Network 2.ipynb.ipynb\u001b[m\n",
      "\t\u001b[32mnew file:   images/lec10/activate-functions.png\u001b[m\n",
      "\t\u001b[32mnew file:   images/lec10/activation-function-accuracy.png\u001b[m\n",
      "\t\u001b[32mnew file:   images/lec10/activation-function-relu.png\u001b[m\n",
      "\t\u001b[32mnew file:   images/lec10/activation-function-sigmoid.png\u001b[m\n",
      "\t\u001b[32mnew file:   images/lec10/change-sigmoid-into-relu.png\u001b[m\n",
      "\t\u001b[32mnew file:   images/lec10/cost-function-relu-initial-weight.png\u001b[m\n",
      "\t\u001b[32mnew file:   images/lec10/neural-network-dropout.png\u001b[m\n",
      "\t\u001b[32mnew file:   images/lec10/sigmoid-relu.png\u001b[m\n",
      "\t\u001b[32mnew file:   images/lec10/why-dropout-is-good.png\u001b[m\n",
      "\n"
     ]
    }
   ],
   "source": [
    "!git add .\n",
    "!git status"
   ]
  },
  {
   "cell_type": "code",
   "execution_count": 15,
   "metadata": {},
   "outputs": [
    {
     "name": "stdout",
     "output_type": "stream",
     "text": [
      "[master 0ebd8f3] notebook update\n",
      " 11 files changed, 286 insertions(+), 4 deletions(-)\n",
      " create mode 100644 tensorflow/sungkim/images/lec10/activate-functions.png\n",
      " create mode 100644 tensorflow/sungkim/images/lec10/activation-function-accuracy.png\n",
      " create mode 100644 tensorflow/sungkim/images/lec10/activation-function-relu.png\n",
      " create mode 100644 tensorflow/sungkim/images/lec10/activation-function-sigmoid.png\n",
      " create mode 100644 tensorflow/sungkim/images/lec10/change-sigmoid-into-relu.png\n",
      " create mode 100644 tensorflow/sungkim/images/lec10/cost-function-relu-initial-weight.png\n",
      " create mode 100644 tensorflow/sungkim/images/lec10/neural-network-dropout.png\n",
      " create mode 100644 tensorflow/sungkim/images/lec10/sigmoid-relu.png\n",
      " create mode 100644 tensorflow/sungkim/images/lec10/why-dropout-is-good.png\n",
      "On branch master\n",
      "Your branch is ahead of 'origin/master' by 1 commit.\n",
      "  (use \"git push\" to publish your local commits)\n",
      "\n",
      "nothing to commit, working tree clean\n"
     ]
    }
   ],
   "source": [
    "!git commit -m \"notebook update\"\n",
    "!git status"
   ]
  },
  {
   "cell_type": "code",
   "execution_count": 16,
   "metadata": {},
   "outputs": [
    {
     "name": "stdout",
     "output_type": "stream",
     "text": [
      "Counting objects: 17, done.\n",
      "Delta compression using up to 4 threads.\n",
      "Compressing objects: 100% (17/17), done.\n",
      "Writing objects: 100% (17/17), 668.75 KiB | 19.67 MiB/s, done.\n",
      "Total 17 (delta 5), reused 0 (delta 0)\n",
      "remote: Resolving deltas: 100% (5/5), completed with 5 local objects.\u001b[K\n",
      "To https://github.com/akagaeng/self-study.git\n",
      "   ed7714b..0ebd8f3  master -> master\n",
      "Branch master set up to track remote branch master from origin.\n"
     ]
    }
   ],
   "source": [
    "!git push -u origin master"
   ]
  }
 ],
 "metadata": {
  "kernelspec": {
   "display_name": "Python 3",
   "language": "python",
   "name": "python3"
  },
  "language_info": {
   "codemirror_mode": {
    "name": "ipython",
    "version": 3
   },
   "file_extension": ".py",
   "mimetype": "text/x-python",
   "name": "python",
   "nbconvert_exporter": "python",
   "pygments_lexer": "ipython3",
   "version": "3.5.4"
  }
 },
 "nbformat": 4,
 "nbformat_minor": 2
}
