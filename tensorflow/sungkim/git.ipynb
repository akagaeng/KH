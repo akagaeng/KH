{
 "cells": [
  {
   "cell_type": "code",
   "execution_count": 20,
   "metadata": {},
   "outputs": [
    {
     "name": "stdout",
     "output_type": "stream",
     "text": [
      "On branch master\n",
      "Your branch is up-to-date with 'origin/master'.\n",
      "\n",
      "Changes not staged for commit:\n",
      "  (use \"git add <file>...\" to update what will be committed)\n",
      "  (use \"git checkout -- <file>...\" to discard changes in working directory)\n",
      "\n",
      "\t\u001b[31mmodified:   .ipynb_checkpoints/11__Convolutional Neural Networks-checkpoint.ipynb\u001b[m\n",
      "\t\u001b[31mmodified:   11__Convolutional Neural Networks.ipynb\u001b[m\n",
      "\t\u001b[31mmodified:   images/lab7/normalize-inputs.png\u001b[m\n",
      "\t\u001b[31mmodified:   images/lec10/cost-function-relu-initial-weight.png\u001b[m\n",
      "\t\u001b[31mmodified:   images/lec10/neural-network-dropout.png\u001b[m\n",
      "\t\u001b[31mmodified:   images/lec10/why-dropout-is-good.png\u001b[m\n",
      "\t\u001b[31mmodified:   images/lec5/sigmoid.png\u001b[m\n",
      "\t\u001b[31mmodified:   images/lec6/multinomial_classification.png\u001b[m\n",
      "\t\u001b[31mmodified:   images/lec7/learning-rate.png\u001b[m\n",
      "\t\u001b[31mmodified:   images/lec7/overfitting.png\u001b[m\n",
      "\t\u001b[31mmodified:   images/lec9/backpropagation-calculation.png\u001b[m\n",
      "\t\u001b[31mmodified:   images/lec9/backpropagation-deep.png\u001b[m\n",
      "\t\u001b[31mmodified:   images/lec9/backpropagation.png\u001b[m\n",
      "\t\u001b[31mmodified:   images/lec9/merge-perceptrons.png\u001b[m\n",
      "\n",
      "Untracked files:\n",
      "  (use \"git add <file>...\" to include in what will be committed)\n",
      "\n",
      "\t\u001b[31mimages/lec11/\u001b[m\n",
      "\n",
      "no changes added to commit (use \"git add\" and/or \"git commit -a\")\n"
     ]
    }
   ],
   "source": [
    "!git status"
   ]
  },
  {
   "cell_type": "code",
   "execution_count": 22,
   "metadata": {},
   "outputs": [
    {
     "name": "stdout",
     "output_type": "stream",
     "text": [
      "On branch master\n",
      "Your branch is up-to-date with 'origin/master'.\n",
      "\n",
      "Changes to be committed:\n",
      "  (use \"git reset HEAD <file>...\" to unstage)\n",
      "\n",
      "\t\u001b[32mmodified:   .ipynb_checkpoints/11__Convolutional Neural Networks-checkpoint.ipynb\u001b[m\n",
      "\t\u001b[32mmodified:   11__Convolutional Neural Networks.ipynb\u001b[m\n",
      "\t\u001b[32mmodified:   images/lab7/normalize-inputs.png\u001b[m\n",
      "\t\u001b[32mmodified:   images/lec10/cost-function-relu-initial-weight.png\u001b[m\n",
      "\t\u001b[32mmodified:   images/lec10/neural-network-dropout.png\u001b[m\n",
      "\t\u001b[32mmodified:   images/lec10/why-dropout-is-good.png\u001b[m\n",
      "\t\u001b[32mnew file:   images/lec11/image-CNN.png\u001b[m\n",
      "\t\u001b[32mnew file:   images/lec11/max-pooling.png\u001b[m\n",
      "\t\u001b[32mmodified:   images/lec5/sigmoid.png\u001b[m\n",
      "\t\u001b[32mmodified:   images/lec6/multinomial_classification.png\u001b[m\n",
      "\t\u001b[32mmodified:   images/lec7/learning-rate.png\u001b[m\n",
      "\t\u001b[32mmodified:   images/lec7/overfitting.png\u001b[m\n",
      "\t\u001b[32mmodified:   images/lec9/backpropagation-calculation.png\u001b[m\n",
      "\t\u001b[32mmodified:   images/lec9/backpropagation-deep.png\u001b[m\n",
      "\t\u001b[32mmodified:   images/lec9/backpropagation.png\u001b[m\n",
      "\t\u001b[32mmodified:   images/lec9/merge-perceptrons.png\u001b[m\n",
      "\n"
     ]
    }
   ],
   "source": [
    "!git add .\n",
    "!git status"
   ]
  },
  {
   "cell_type": "code",
   "execution_count": 23,
   "metadata": {},
   "outputs": [
    {
     "name": "stdout",
     "output_type": "stream",
     "text": [
      "[master bd10b5d] notebook update\n",
      " 16 files changed, 104 insertions(+)\n",
      " rewrite tensorflow/sungkim/images/lab7/normalize-inputs.png (98%)\n",
      " rewrite tensorflow/sungkim/images/lec10/cost-function-relu-initial-weight.png (99%)\n",
      " rewrite tensorflow/sungkim/images/lec10/neural-network-dropout.png (97%)\n",
      " rewrite tensorflow/sungkim/images/lec10/why-dropout-is-good.png (99%)\n",
      " create mode 100644 tensorflow/sungkim/images/lec11/image-CNN.png\n",
      " create mode 100644 tensorflow/sungkim/images/lec11/max-pooling.png\n",
      " rewrite tensorflow/sungkim/images/lec5/sigmoid.png (98%)\n",
      " rewrite tensorflow/sungkim/images/lec6/multinomial_classification.png (99%)\n",
      " rewrite tensorflow/sungkim/images/lec7/learning-rate.png (99%)\n",
      " rewrite tensorflow/sungkim/images/lec7/overfitting.png (98%)\n",
      " rewrite tensorflow/sungkim/images/lec9/backpropagation-calculation.png (99%)\n",
      " rewrite tensorflow/sungkim/images/lec9/backpropagation-deep.png (99%)\n",
      " rewrite tensorflow/sungkim/images/lec9/backpropagation.png (98%)\n",
      " rewrite tensorflow/sungkim/images/lec9/merge-perceptrons.png (99%)\n",
      "On branch master\n",
      "Your branch is ahead of 'origin/master' by 1 commit.\n",
      "  (use \"git push\" to publish your local commits)\n",
      "\n",
      "nothing to commit, working tree clean\n"
     ]
    }
   ],
   "source": [
    "!git commit -m \"notebook update\"\n",
    "!git status"
   ]
  },
  {
   "cell_type": "code",
   "execution_count": 24,
   "metadata": {},
   "outputs": [
    {
     "name": "stdout",
     "output_type": "stream",
     "text": [
      "Counting objects: 29, done.\n",
      "Delta compression using up to 4 threads.\n",
      "Compressing objects: 100% (27/27), done.\n",
      "Writing objects: 100% (29/29), 966.23 KiB | 20.13 MiB/s, done.\n",
      "Total 29 (delta 8), reused 0 (delta 0)\n",
      "remote: Resolving deltas: 100% (8/8), completed with 7 local objects.\u001b[K\n",
      "To https://github.com/akagaeng/self-study.git\n",
      "   a61ffea..bd10b5d  master -> master\n",
      "Branch master set up to track remote branch master from origin.\n"
     ]
    }
   ],
   "source": [
    "!git push -u origin master"
   ]
  }
 ],
 "metadata": {
  "kernelspec": {
   "display_name": "Python 3",
   "language": "python",
   "name": "python3"
  },
  "language_info": {
   "codemirror_mode": {
    "name": "ipython",
    "version": 3
   },
   "file_extension": ".py",
   "mimetype": "text/x-python",
   "name": "python",
   "nbconvert_exporter": "python",
   "pygments_lexer": "ipython3",
   "version": "3.5.4"
  }
 },
 "nbformat": 4,
 "nbformat_minor": 2
}
