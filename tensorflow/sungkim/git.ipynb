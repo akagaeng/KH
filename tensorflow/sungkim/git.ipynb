{
 "cells": [
  {
   "cell_type": "code",
   "execution_count": 9,
   "metadata": {},
   "outputs": [
    {
     "name": "stdout",
     "output_type": "stream",
     "text": [
      "On branch master\n",
      "Your branch is up-to-date with 'origin/master'.\n",
      "\n",
      "Changes not staged for commit:\n",
      "  (use \"git add <file>...\" to update what will be committed)\n",
      "  (use \"git checkout -- <file>...\" to discard changes in working directory)\n",
      "\n",
      "\t\u001b[31mmodified:   .ipynb_checkpoints/07_LAB2_MNIST data-checkpoint.ipynb\u001b[m\n",
      "\t\u001b[31mmodified:   .ipynb_checkpoints/10__Neural Network 2.ipynb-checkpoint.ipynb\u001b[m\n",
      "\t\u001b[31mmodified:   07_LAB2_MNIST data.ipynb\u001b[m\n",
      "\t\u001b[31mmodified:   10__Neural Network 2.ipynb.ipynb\u001b[m\n",
      "\t\u001b[31mmodified:   git.ipynb\u001b[m\n",
      "\n",
      "no changes added to commit (use \"git add\" and/or \"git commit -a\")\n"
     ]
    }
   ],
   "source": [
    "!git status"
   ]
  },
  {
   "cell_type": "code",
   "execution_count": 10,
   "metadata": {},
   "outputs": [
    {
     "name": "stdout",
     "output_type": "stream",
     "text": [
      "On branch master\n",
      "Your branch is up-to-date with 'origin/master'.\n",
      "\n",
      "Changes to be committed:\n",
      "  (use \"git reset HEAD <file>...\" to unstage)\n",
      "\n",
      "\t\u001b[32mmodified:   .ipynb_checkpoints/07_LAB2_MNIST data-checkpoint.ipynb\u001b[m\n",
      "\t\u001b[32mmodified:   .ipynb_checkpoints/10__Neural Network 2.ipynb-checkpoint.ipynb\u001b[m\n",
      "\t\u001b[32mmodified:   07_LAB2_MNIST data.ipynb\u001b[m\n",
      "\t\u001b[32mmodified:   10__Neural Network 2.ipynb.ipynb\u001b[m\n",
      "\t\u001b[32mmodified:   git.ipynb\u001b[m\n",
      "\n"
     ]
    }
   ],
   "source": [
    "!git add .\n",
    "!git status"
   ]
  },
  {
   "cell_type": "code",
   "execution_count": 11,
   "metadata": {},
   "outputs": [
    {
     "name": "stdout",
     "output_type": "stream",
     "text": [
      "[master dacc018] notebook update\n",
      " 5 files changed, 659 insertions(+), 1291 deletions(-)\n",
      " rewrite tensorflow/sungkim/.ipynb_checkpoints/07_LAB2_MNIST data-checkpoint.ipynb (94%)\n",
      " rewrite tensorflow/sungkim/07_LAB2_MNIST data.ipynb (91%)\n",
      " rewrite tensorflow/sungkim/git.ipynb (86%)\n",
      "On branch master\n",
      "Your branch is ahead of 'origin/master' by 1 commit.\n",
      "  (use \"git push\" to publish your local commits)\n",
      "\n",
      "nothing to commit, working tree clean\n"
     ]
    }
   ],
   "source": [
    "!git commit -m \"notebook update\"\n",
    "!git status"
   ]
  },
  {
   "cell_type": "code",
   "execution_count": 12,
   "metadata": {},
   "outputs": [
    {
     "name": "stdout",
     "output_type": "stream",
     "text": [
      "Counting objects: 10, done.\n",
      "Delta compression using up to 4 threads.\n",
      "Compressing objects: 100% (10/10), done.\n",
      "Writing objects: 100% (10/10), 20.99 KiB | 7.00 MiB/s, done.\n",
      "Total 10 (delta 7), reused 0 (delta 0)\n",
      "remote: Resolving deltas: 100% (7/7), completed with 6 local objects.\u001b[K\n",
      "To https://github.com/akagaeng/self-study.git\n",
      "   f0896c4..dacc018  master -> master\n",
      "Branch master set up to track remote branch master from origin.\n"
     ]
    }
   ],
   "source": [
    "!git push -u origin master"
   ]
  }
 ],
 "metadata": {
  "kernelspec": {
   "display_name": "Python 3",
   "language": "python",
   "name": "python3"
  },
  "language_info": {
   "codemirror_mode": {
    "name": "ipython",
    "version": 3
   },
   "file_extension": ".py",
   "mimetype": "text/x-python",
   "name": "python",
   "nbconvert_exporter": "python",
   "pygments_lexer": "ipython3",
   "version": "3.5.4"
  }
 },
 "nbformat": 4,
 "nbformat_minor": 2
}
