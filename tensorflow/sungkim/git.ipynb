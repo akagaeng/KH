{
 "cells": [
  {
   "cell_type": "code",
   "execution_count": 1,
   "metadata": {},
   "outputs": [
    {
     "name": "stdout",
     "output_type": "stream",
     "text": [
      "On branch master\n",
      "Your branch is up-to-date with 'origin/master'.\n",
      "\n",
      "Changes not staged for commit:\n",
      "  (use \"git add/rm <file>...\" to update what will be committed)\n",
      "  (use \"git checkout -- <file>...\" to discard changes in working directory)\n",
      "  (commit or discard the untracked or modified content in submodules)\n",
      "\n",
      "\t\u001b[31mmodified:   ../gcp-ml-handson/datalab-notebooks\u001b[m (modified content, untracked content)\n",
      "\t\u001b[31mmodified:   ../gcp-ml-handson/training-data-analyst\u001b[m (untracked content)\n",
      "\t\u001b[31mdeleted:    .ipynb_checkpoints/12_Recurrent Neural Networ-checkpoint.ipynb\u001b[m\n",
      "\t\u001b[31mdeleted:    \".ipynb_checkpoints/\\352\\260\\204\\353\\213\\250\\355\\225\\234 \\353\\257\\270\\353\\266\\204(derivative) \\354\\240\\225\\353\\246\\254-checkpoint.ipynb\"\u001b[m\n",
      "\t\u001b[31mdeleted:    12_Recurrent Neural Networ.ipynb\u001b[m\n",
      "\t\u001b[31mdeleted:    \"\\352\\260\\204\\353\\213\\250\\355\\225\\234 \\353\\257\\270\\353\\266\\204(derivative) \\354\\240\\225\\353\\246\\254.ipynb\"\u001b[m\n",
      "\n",
      "Untracked files:\n",
      "  (use \"git add <file>...\" to include in what will be committed)\n",
      "\n",
      "\t\u001b[31m.ipynb_checkpoints/08_LAB_Tensor Manipulation.ipynb-checkpoint.ipynb\u001b[m\n",
      "\t\u001b[31m.ipynb_checkpoints/09_LAB1_NN for XOR-checkpoint.ipynb\u001b[m\n",
      "\t\u001b[31m.ipynb_checkpoints/09_LAB2_Tensorboard for XOR NN-checkpoint.ipynb\u001b[m\n",
      "\t\u001b[31m.ipynb_checkpoints/10_LAB_NN, ReLu, Xavier, Dropout, and Adam-checkpoint.ipynb\u001b[m\n",
      "\t\u001b[31m.ipynb_checkpoints/11_LAB1_CNN Basics-checkpoint.ipynb\u001b[m\n",
      "\t\u001b[31m.ipynb_checkpoints/11_LAB2_CNN MNIST 99-checkpoint.ipynb\u001b[m\n",
      "\t\u001b[31m.ipynb_checkpoints/11_LAB3_Class, Layers, Ensemble-checkpoint.ipynb\u001b[m\n",
      "\t\u001b[31m.ipynb_checkpoints/12_LAB1_-checkpoint.ipynb\u001b[m\n",
      "\t\u001b[31m.ipynb_checkpoints/12_LAB2_Hi Hello RNN Traning-checkpoint.ipynb\u001b[m\n",
      "\t\u001b[31m.ipynb_checkpoints/12_LAB3_Long Sequence RNN-checkpoint.ipynb\u001b[m\n",
      "\t\u001b[31m.ipynb_checkpoints/12_LAB4_Stacked RNN + Softmax Layer-checkpoint.ipynb\u001b[m\n",
      "\t\u001b[31m.ipynb_checkpoints/12_LAB5_Dynamic RNN-checkpoint.ipynb\u001b[m\n",
      "\t\u001b[31m.ipynb_checkpoints/12_LAB6_-checkpoint.ipynb\u001b[m\n",
      "\t\u001b[31m.ipynb_checkpoints/12__Recurrent Neural Networ-checkpoint.ipynb\u001b[m\n",
      "\t\u001b[31m\".ipynb_checkpoints/\\352\\260\\204\\353\\213\\250\\355\\225\\234 \\353\\257\\270\\353\\266\\204(derivative) \\354\\240\\225\\353\\246\\254-checkpoint (\\354\\234\\240\\353\\213\\210\\354\\275\\224\\353\\223\\234 \\354\\235\\270\\354\\275\\224\\353\\224\\251 \\354\\266\\251\\353\\217\\214).ipynb\"\u001b[m\n",
      "\t\u001b[31m08_LAB_Tensor Manipulation.ipynb.ipynb\u001b[m\n",
      "\t\u001b[31m09_LAB1_NN for XOR.ipynb\u001b[m\n",
      "\t\u001b[31m09_LAB2_Tensorboard for XOR NN.ipynb\u001b[m\n",
      "\t\u001b[31m10_LAB_NN, ReLu, Xavier, Dropout, and Adam.ipynb\u001b[m\n",
      "\t\u001b[31m11_LAB1_CNN Basics.ipynb\u001b[m\n",
      "\t\u001b[31m11_LAB2_CNN MNIST 99.ipynb\u001b[m\n",
      "\t\u001b[31m11_LAB3_Class, Layers, Ensemble.ipynb\u001b[m\n",
      "\t\u001b[31m12_LAB1_.ipynb\u001b[m\n",
      "\t\u001b[31m12_LAB2_Hi Hello RNN Traning.ipynb\u001b[m\n",
      "\t\u001b[31m12_LAB3_Long Sequence RNN.ipynb\u001b[m\n",
      "\t\u001b[31m12_LAB4_Stacked RNN + Softmax Layer.ipynb\u001b[m\n",
      "\t\u001b[31m12_LAB5_Dynamic RNN.ipynb\u001b[m\n",
      "\t\u001b[31m12_LAB6_.ipynb\u001b[m\n",
      "\t\u001b[31m12__Recurrent Neural Networ.ipynb\u001b[m\n",
      "\t\u001b[31mMNIST_data/\u001b[m\n",
      "\t\u001b[31mderivative.ipynb\u001b[m\n",
      "\t\u001b[31mlogs/\u001b[m\n",
      "\n",
      "no changes added to commit (use \"git add\" and/or \"git commit -a\")\n"
     ]
    }
   ],
   "source": [
    "!git status"
   ]
  },
  {
   "cell_type": "code",
   "execution_count": 2,
   "metadata": {},
   "outputs": [
    {
     "name": "stdout",
     "output_type": "stream",
     "text": [
      "On branch master\n",
      "Your branch is up-to-date with 'origin/master'.\n",
      "\n",
      "Changes to be committed:\n",
      "  (use \"git reset HEAD <file>...\" to unstage)\n",
      "\n",
      "\t\u001b[32mnew file:   .ipynb_checkpoints/08_LAB_Tensor Manipulation.ipynb-checkpoint.ipynb\u001b[m\n",
      "\t\u001b[32mnew file:   .ipynb_checkpoints/09_LAB1_NN for XOR-checkpoint.ipynb\u001b[m\n",
      "\t\u001b[32mnew file:   .ipynb_checkpoints/09_LAB2_Tensorboard for XOR NN-checkpoint.ipynb\u001b[m\n",
      "\t\u001b[32mnew file:   .ipynb_checkpoints/10_LAB_NN, ReLu, Xavier, Dropout, and Adam-checkpoint.ipynb\u001b[m\n",
      "\t\u001b[32mnew file:   .ipynb_checkpoints/11_LAB1_CNN Basics-checkpoint.ipynb\u001b[m\n",
      "\t\u001b[32mnew file:   .ipynb_checkpoints/11_LAB2_CNN MNIST 99-checkpoint.ipynb\u001b[m\n",
      "\t\u001b[32mnew file:   .ipynb_checkpoints/11_LAB3_Class, Layers, Ensemble-checkpoint.ipynb\u001b[m\n",
      "\t\u001b[32mnew file:   .ipynb_checkpoints/12_LAB1_-checkpoint.ipynb\u001b[m\n",
      "\t\u001b[32mnew file:   .ipynb_checkpoints/12_LAB2_Hi Hello RNN Traning-checkpoint.ipynb\u001b[m\n",
      "\t\u001b[32mnew file:   .ipynb_checkpoints/12_LAB3_Long Sequence RNN-checkpoint.ipynb\u001b[m\n",
      "\t\u001b[32mnew file:   .ipynb_checkpoints/12_LAB4_Stacked RNN + Softmax Layer-checkpoint.ipynb\u001b[m\n",
      "\t\u001b[32mnew file:   .ipynb_checkpoints/12_LAB5_Dynamic RNN-checkpoint.ipynb\u001b[m\n",
      "\t\u001b[32mnew file:   .ipynb_checkpoints/12_LAB6_-checkpoint.ipynb\u001b[m\n",
      "\t\u001b[32mrenamed:    .ipynb_checkpoints/12_Recurrent Neural Networ-checkpoint.ipynb -> .ipynb_checkpoints/12__Recurrent Neural Networ-checkpoint.ipynb\u001b[m\n",
      "\t\u001b[32mrenamed:    \".ipynb_checkpoints/\\352\\260\\204\\353\\213\\250\\355\\225\\234 \\353\\257\\270\\353\\266\\204(derivative) \\354\\240\\225\\353\\246\\254-checkpoint.ipynb\" -> \".ipynb_checkpoints/\\352\\260\\204\\353\\213\\250\\355\\225\\234 \\353\\257\\270\\353\\266\\204(derivative) \\354\\240\\225\\353\\246\\254-checkpoint (\\354\\234\\240\\353\\213\\210\\354\\275\\224\\353\\223\\234 \\354\\235\\270\\354\\275\\224\\353\\224\\251 \\354\\266\\251\\353\\217\\214).ipynb\"\u001b[m\n",
      "\t\u001b[32mnew file:   08_LAB_Tensor Manipulation.ipynb.ipynb\u001b[m\n",
      "\t\u001b[32mnew file:   09_LAB1_NN for XOR.ipynb\u001b[m\n",
      "\t\u001b[32mnew file:   09_LAB2_Tensorboard for XOR NN.ipynb\u001b[m\n",
      "\t\u001b[32mnew file:   10_LAB_NN, ReLu, Xavier, Dropout, and Adam.ipynb\u001b[m\n",
      "\t\u001b[32mnew file:   11_LAB1_CNN Basics.ipynb\u001b[m\n",
      "\t\u001b[32mnew file:   11_LAB2_CNN MNIST 99.ipynb\u001b[m\n",
      "\t\u001b[32mnew file:   11_LAB3_Class, Layers, Ensemble.ipynb\u001b[m\n",
      "\t\u001b[32mnew file:   12_LAB1_.ipynb\u001b[m\n",
      "\t\u001b[32mnew file:   12_LAB2_Hi Hello RNN Traning.ipynb\u001b[m\n",
      "\t\u001b[32mnew file:   12_LAB3_Long Sequence RNN.ipynb\u001b[m\n",
      "\t\u001b[32mnew file:   12_LAB4_Stacked RNN + Softmax Layer.ipynb\u001b[m\n",
      "\t\u001b[32mnew file:   12_LAB5_Dynamic RNN.ipynb\u001b[m\n",
      "\t\u001b[32mnew file:   12_LAB6_.ipynb\u001b[m\n",
      "\t\u001b[32mrenamed:    12_Recurrent Neural Networ.ipynb -> 12__Recurrent Neural Networ.ipynb\u001b[m\n",
      "\t\u001b[32mnew file:   MNIST_data/t10k-images-idx3-ubyte.gz\u001b[m\n",
      "\t\u001b[32mnew file:   MNIST_data/t10k-labels-idx1-ubyte.gz\u001b[m\n",
      "\t\u001b[32mnew file:   MNIST_data/train-images-idx3-ubyte.gz\u001b[m\n",
      "\t\u001b[32mnew file:   MNIST_data/train-labels-idx1-ubyte.gz\u001b[m\n",
      "\t\u001b[32mrenamed:    \"\\352\\260\\204\\353\\213\\250\\355\\225\\234 \\353\\257\\270\\353\\266\\204(derivative) \\354\\240\\225\\353\\246\\254.ipynb\" -> derivative.ipynb\u001b[m\n",
      "\t\u001b[32mnew file:   logs/xor_logs_r0_01/events.out.tfevents.1517883255.freddieui-MacBook-Air.local\u001b[m\n",
      "\n",
      "Changes not staged for commit:\n",
      "  (use \"git add <file>...\" to update what will be committed)\n",
      "  (use \"git checkout -- <file>...\" to discard changes in working directory)\n",
      "  (commit or discard the untracked or modified content in submodules)\n",
      "\n",
      "\t\u001b[31mmodified:   ../gcp-ml-handson/datalab-notebooks\u001b[m (modified content, untracked content)\n",
      "\t\u001b[31mmodified:   ../gcp-ml-handson/training-data-analyst\u001b[m (untracked content)\n",
      "\n"
     ]
    }
   ],
   "source": [
    "!git add .\n",
    "!git status"
   ]
  },
  {
   "cell_type": "code",
   "execution_count": 3,
   "metadata": {},
   "outputs": [
    {
     "name": "stdout",
     "output_type": "stream",
     "text": [
      "[master 27eb381] notebook update\n",
      " 35 files changed, 13426 insertions(+)\n",
      " create mode 100644 tensorflow/sungkim/.ipynb_checkpoints/08_LAB_Tensor Manipulation.ipynb-checkpoint.ipynb\n",
      " create mode 100644 tensorflow/sungkim/.ipynb_checkpoints/09_LAB1_NN for XOR-checkpoint.ipynb\n",
      " create mode 100644 tensorflow/sungkim/.ipynb_checkpoints/09_LAB2_Tensorboard for XOR NN-checkpoint.ipynb\n",
      " create mode 100644 tensorflow/sungkim/.ipynb_checkpoints/10_LAB_NN, ReLu, Xavier, Dropout, and Adam-checkpoint.ipynb\n",
      " create mode 100644 tensorflow/sungkim/.ipynb_checkpoints/11_LAB1_CNN Basics-checkpoint.ipynb\n",
      " create mode 100644 tensorflow/sungkim/.ipynb_checkpoints/11_LAB2_CNN MNIST 99-checkpoint.ipynb\n",
      " create mode 100644 tensorflow/sungkim/.ipynb_checkpoints/11_LAB3_Class, Layers, Ensemble-checkpoint.ipynb\n",
      " create mode 100644 tensorflow/sungkim/.ipynb_checkpoints/12_LAB1_-checkpoint.ipynb\n",
      " create mode 100644 tensorflow/sungkim/.ipynb_checkpoints/12_LAB2_Hi Hello RNN Traning-checkpoint.ipynb\n",
      " create mode 100644 tensorflow/sungkim/.ipynb_checkpoints/12_LAB3_Long Sequence RNN-checkpoint.ipynb\n",
      " create mode 100644 tensorflow/sungkim/.ipynb_checkpoints/12_LAB4_Stacked RNN + Softmax Layer-checkpoint.ipynb\n",
      " create mode 100644 tensorflow/sungkim/.ipynb_checkpoints/12_LAB5_Dynamic RNN-checkpoint.ipynb\n",
      " create mode 100644 tensorflow/sungkim/.ipynb_checkpoints/12_LAB6_-checkpoint.ipynb\n",
      " rename tensorflow/sungkim/.ipynb_checkpoints/{12_Recurrent Neural Networ-checkpoint.ipynb => 12__Recurrent Neural Networ-checkpoint.ipynb} (100%)\n",
      " rename \"tensorflow/sungkim/.ipynb_checkpoints/\\352\\260\\204\\353\\213\\250\\355\\225\\234 \\353\\257\\270\\353\\266\\204(derivative) \\354\\240\\225\\353\\246\\254-checkpoint.ipynb\" => \"tensorflow/sungkim/.ipynb_checkpoints/\\352\\260\\204\\353\\213\\250\\355\\225\\234 \\353\\257\\270\\353\\266\\204(derivative) \\354\\240\\225\\353\\246\\254-checkpoint (\\354\\234\\240\\353\\213\\210\\354\\275\\224\\353\\223\\234 \\354\\235\\270\\354\\275\\224\\353\\224\\251 \\354\\266\\251\\353\\217\\214).ipynb\" (100%)\n",
      " create mode 100644 tensorflow/sungkim/08_LAB_Tensor Manipulation.ipynb.ipynb\n",
      " create mode 100644 tensorflow/sungkim/09_LAB1_NN for XOR.ipynb\n",
      " create mode 100644 tensorflow/sungkim/09_LAB2_Tensorboard for XOR NN.ipynb\n",
      " create mode 100644 tensorflow/sungkim/10_LAB_NN, ReLu, Xavier, Dropout, and Adam.ipynb\n",
      " create mode 100644 tensorflow/sungkim/11_LAB1_CNN Basics.ipynb\n",
      " create mode 100644 tensorflow/sungkim/11_LAB2_CNN MNIST 99.ipynb\n",
      " create mode 100644 tensorflow/sungkim/11_LAB3_Class, Layers, Ensemble.ipynb\n",
      " create mode 100644 tensorflow/sungkim/12_LAB1_.ipynb\n",
      " create mode 100644 tensorflow/sungkim/12_LAB2_Hi Hello RNN Traning.ipynb\n",
      " create mode 100644 tensorflow/sungkim/12_LAB3_Long Sequence RNN.ipynb\n",
      " create mode 100644 tensorflow/sungkim/12_LAB4_Stacked RNN + Softmax Layer.ipynb\n",
      " create mode 100644 tensorflow/sungkim/12_LAB5_Dynamic RNN.ipynb\n",
      " create mode 100644 tensorflow/sungkim/12_LAB6_.ipynb\n",
      " rename tensorflow/sungkim/{12_Recurrent Neural Networ.ipynb => 12__Recurrent Neural Networ.ipynb} (100%)\n",
      " create mode 100644 tensorflow/sungkim/MNIST_data/t10k-images-idx3-ubyte.gz\n",
      " create mode 100644 tensorflow/sungkim/MNIST_data/t10k-labels-idx1-ubyte.gz\n",
      " create mode 100644 tensorflow/sungkim/MNIST_data/train-images-idx3-ubyte.gz\n",
      " create mode 100644 tensorflow/sungkim/MNIST_data/train-labels-idx1-ubyte.gz\n",
      " rename \"tensorflow/sungkim/\\352\\260\\204\\353\\213\\250\\355\\225\\234 \\353\\257\\270\\353\\266\\204(derivative) \\354\\240\\225\\353\\246\\254.ipynb\" => tensorflow/sungkim/derivative.ipynb (100%)\n",
      " create mode 100644 tensorflow/sungkim/logs/xor_logs_r0_01/events.out.tfevents.1517883255.freddieui-MacBook-Air.local\n",
      "On branch master\n",
      "Your branch is ahead of 'origin/master' by 1 commit.\n",
      "  (use \"git push\" to publish your local commits)\n",
      "\n",
      "Changes not staged for commit:\n",
      "  (use \"git add <file>...\" to update what will be committed)\n",
      "  (use \"git checkout -- <file>...\" to discard changes in working directory)\n",
      "  (commit or discard the untracked or modified content in submodules)\n",
      "\n",
      "\t\u001b[31mmodified:   ../gcp-ml-handson/datalab-notebooks\u001b[m (modified content, untracked content)\n",
      "\t\u001b[31mmodified:   ../gcp-ml-handson/training-data-analyst\u001b[m (untracked content)\n",
      "\n",
      "no changes added to commit (use \"git add\" and/or \"git commit -a\")\n"
     ]
    }
   ],
   "source": [
    "!git commit -m \"notebook update\"\n",
    "!git status"
   ]
  },
  {
   "cell_type": "code",
   "execution_count": 4,
   "metadata": {},
   "outputs": [
    {
     "name": "stdout",
     "output_type": "stream",
     "text": [
      "Counting objects: 22, done.\n",
      "Delta compression using up to 4 threads.\n",
      "Compressing objects: 100% (21/21), done.\n",
      "Writing objects: 100% (22/22), 1.46 MiB | 521.00 KiB/s, done.\n",
      "Total 22 (delta 14), reused 0 (delta 0)\n",
      "remote: Resolving deltas: 100% (14/14), completed with 3 local objects.\u001b[K\n",
      "To https://github.com/akagaeng/self-study.git\n",
      "   a4c70da..27eb381  master -> master\n",
      "Branch master set up to track remote branch master from origin.\n"
     ]
    }
   ],
   "source": [
    "!git push -u origin master"
   ]
  }
 ],
 "metadata": {
  "kernelspec": {
   "display_name": "Python 3",
   "language": "python",
   "name": "python3"
  },
  "language_info": {
   "codemirror_mode": {
    "name": "ipython",
    "version": 3
   },
   "file_extension": ".py",
   "mimetype": "text/x-python",
   "name": "python",
   "nbconvert_exporter": "python",
   "pygments_lexer": "ipython3",
   "version": "3.5.4"
  }
 },
 "nbformat": 4,
 "nbformat_minor": 2
}
