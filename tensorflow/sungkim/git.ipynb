{
 "cells": [
  {
   "cell_type": "code",
   "execution_count": 23,
   "metadata": {},
   "outputs": [
    {
     "name": "stdout",
     "output_type": "stream",
     "text": [
      "On branch master\n",
      "Your branch is up-to-date with 'origin/master'.\n",
      "\n",
      "Changes not staged for commit:\n",
      "  (use \"git add/rm <file>...\" to update what will be committed)\n",
      "  (use \"git checkout -- <file>...\" to discard changes in working directory)\n",
      "\n",
      "\t\u001b[31mmodified:   .ipynb_checkpoints/7_LAB1_Learning rate & Evaluation-checkpoint.ipynb\u001b[m\n",
      "\t\u001b[31mmodified:   .ipynb_checkpoints/7_LAB2_MNIST data-checkpoint.ipynb\u001b[m\n",
      "\t\u001b[31mmodified:   .ipynb_checkpoints/7__ML Application & Tips-checkpoint.ipynb\u001b[m\n",
      "\t\u001b[31mmodified:   .ipynb_checkpoints/git-checkpoint.ipynb\u001b[m\n",
      "\t\u001b[31mmodified:   4__Multivariable_linear_regression.ipynb\u001b[m\n",
      "\t\u001b[31mmodified:   7_LAB1_Learning rate & Evaluation.ipynb\u001b[m\n",
      "\t\u001b[31mmodified:   7_LAB2_MNIST data.ipynb\u001b[m\n",
      "\t\u001b[31mmodified:   7__ML Application & Tips.ipynb\u001b[m\n",
      "\t\u001b[31mmodified:   git.ipynb\u001b[m\n",
      "\t\u001b[31mdeleted:    images/lab7/learning-rate.png\u001b[m\n",
      "\n",
      "Untracked files:\n",
      "  (use \"git add <file>...\" to include in what will be committed)\n",
      "\n",
      "\t\u001b[31mMNIST_from_tf_tutorials/\u001b[m\n",
      "\t\u001b[31mMNIST_from_yann_lecun/\u001b[m\n",
      "\t\u001b[31mimages/lab7/normalize-inputs.png\u001b[m\n",
      "\t\u001b[31mimages/lec7/learning-rate.png\u001b[m\n",
      "\n",
      "no changes added to commit (use \"git add\" and/or \"git commit -a\")\n"
     ]
    }
   ],
   "source": [
    "!git status"
   ]
  },
  {
   "cell_type": "code",
   "execution_count": 24,
   "metadata": {},
   "outputs": [
    {
     "name": "stdout",
     "output_type": "stream",
     "text": [
      "On branch master\n",
      "Your branch is up-to-date with 'origin/master'.\n",
      "\n",
      "Changes to be committed:\n",
      "  (use \"git reset HEAD <file>...\" to unstage)\n",
      "\n",
      "\t\u001b[32mmodified:   .ipynb_checkpoints/7_LAB1_Learning rate & Evaluation-checkpoint.ipynb\u001b[m\n",
      "\t\u001b[32mmodified:   .ipynb_checkpoints/7_LAB2_MNIST data-checkpoint.ipynb\u001b[m\n",
      "\t\u001b[32mmodified:   .ipynb_checkpoints/7__ML Application & Tips-checkpoint.ipynb\u001b[m\n",
      "\t\u001b[32mmodified:   .ipynb_checkpoints/git-checkpoint.ipynb\u001b[m\n",
      "\t\u001b[32mmodified:   4__Multivariable_linear_regression.ipynb\u001b[m\n",
      "\t\u001b[32mmodified:   7_LAB1_Learning rate & Evaluation.ipynb\u001b[m\n",
      "\t\u001b[32mmodified:   7_LAB2_MNIST data.ipynb\u001b[m\n",
      "\t\u001b[32mmodified:   7__ML Application & Tips.ipynb\u001b[m\n",
      "\t\u001b[32mnew file:   MNIST_from_tf_tutorials/t10k-images-idx3-ubyte.gz\u001b[m\n",
      "\t\u001b[32mnew file:   MNIST_from_tf_tutorials/t10k-labels-idx1-ubyte.gz\u001b[m\n",
      "\t\u001b[32mnew file:   MNIST_from_tf_tutorials/train-images-idx3-ubyte.gz\u001b[m\n",
      "\t\u001b[32mnew file:   MNIST_from_tf_tutorials/train-labels-idx1-ubyte.gz\u001b[m\n",
      "\t\u001b[32mnew file:   MNIST_from_yann_lecun/t10k-images-idx3-ubyte.gz\u001b[m\n",
      "\t\u001b[32mnew file:   MNIST_from_yann_lecun/t10k-labels-idx1-ubyte.gz\u001b[m\n",
      "\t\u001b[32mnew file:   MNIST_from_yann_lecun/train-images-idx3-ubyte.gz\u001b[m\n",
      "\t\u001b[32mnew file:   MNIST_from_yann_lecun/train-labels-idx1-ubyte.gz\u001b[m\n",
      "\t\u001b[32mmodified:   git.ipynb\u001b[m\n",
      "\t\u001b[32mnew file:   images/lab7/normalize-inputs.png\u001b[m\n",
      "\t\u001b[32mrenamed:    images/lab7/learning-rate.png -> images/lec7/learning-rate.png\u001b[m\n",
      "\n"
     ]
    }
   ],
   "source": [
    "!git add .\n",
    "!git status"
   ]
  },
  {
   "cell_type": "code",
   "execution_count": 25,
   "metadata": {},
   "outputs": [
    {
     "name": "stdout",
     "output_type": "stream",
     "text": [
      "[master e3ebad7] notebook update\n",
      " 19 files changed, 2077 insertions(+), 1604 deletions(-)\n",
      " rewrite tensorflow/sungkim/.ipynb_checkpoints/7_LAB1_Learning rate & Evaluation-checkpoint.ipynb (90%)\n",
      " rewrite tensorflow/sungkim/4__Multivariable_linear_regression.ipynb (99%)\n",
      " rewrite tensorflow/sungkim/7_LAB1_Learning rate & Evaluation.ipynb (90%)\n",
      " create mode 100644 tensorflow/sungkim/MNIST_from_tf_tutorials/t10k-images-idx3-ubyte.gz\n",
      " create mode 100644 tensorflow/sungkim/MNIST_from_tf_tutorials/t10k-labels-idx1-ubyte.gz\n",
      " create mode 100644 tensorflow/sungkim/MNIST_from_tf_tutorials/train-images-idx3-ubyte.gz\n",
      " create mode 100644 tensorflow/sungkim/MNIST_from_tf_tutorials/train-labels-idx1-ubyte.gz\n",
      " create mode 100644 tensorflow/sungkim/MNIST_from_yann_lecun/t10k-images-idx3-ubyte.gz\n",
      " create mode 100644 tensorflow/sungkim/MNIST_from_yann_lecun/t10k-labels-idx1-ubyte.gz\n",
      " create mode 100644 tensorflow/sungkim/MNIST_from_yann_lecun/train-images-idx3-ubyte.gz\n",
      " create mode 100644 tensorflow/sungkim/MNIST_from_yann_lecun/train-labels-idx1-ubyte.gz\n",
      " create mode 100644 tensorflow/sungkim/images/lab7/normalize-inputs.png\n",
      " rename tensorflow/sungkim/images/{lab7 => lec7}/learning-rate.png (100%)\n",
      "On branch master\n",
      "Your branch is ahead of 'origin/master' by 1 commit.\n",
      "  (use \"git push\" to publish your local commits)\n",
      "\n",
      "nothing to commit, working tree clean\n"
     ]
    }
   ],
   "source": [
    "!git commit -m \"notebook update\"\n",
    "!git status"
   ]
  },
  {
   "cell_type": "code",
   "execution_count": 26,
   "metadata": {},
   "outputs": [
    {
     "name": "stdout",
     "output_type": "stream",
     "text": [
      "Counting objects: 16, done.\n",
      "Delta compression using up to 4 threads.\n",
      "Compressing objects: 100% (15/15), done.\n",
      "Writing objects: 100% (16/16), 330.06 KiB | 13.20 MiB/s, done.\n",
      "Total 16 (delta 8), reused 0 (delta 0)\n",
      "remote: Resolving deltas: 100% (8/8), completed with 7 local objects.\u001b[K\n",
      "To https://github.com/akagaeng/self-study.git\n",
      "   e0eefea..e3ebad7  master -> master\n",
      "Branch master set up to track remote branch master from origin.\n"
     ]
    }
   ],
   "source": [
    "!git push -u origin master"
   ]
  },
  {
   "cell_type": "code",
   "execution_count": null,
   "metadata": {},
   "outputs": [],
   "source": []
  }
 ],
 "metadata": {
  "kernelspec": {
   "display_name": "Python 3",
   "language": "python",
   "name": "python3"
  },
  "language_info": {
   "codemirror_mode": {
    "name": "ipython",
    "version": 3
   },
   "file_extension": ".py",
   "mimetype": "text/x-python",
   "name": "python",
   "nbconvert_exporter": "python",
   "pygments_lexer": "ipython3",
   "version": "3.5.4"
  }
 },
 "nbformat": 4,
 "nbformat_minor": 2
}
