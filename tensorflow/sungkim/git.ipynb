{
 "cells": [
  {
   "cell_type": "code",
   "execution_count": 5,
   "metadata": {},
   "outputs": [
    {
     "name": "stdout",
     "output_type": "stream",
     "text": [
      "On branch master\n",
      "Your branch is up-to-date with 'origin/master'.\n",
      "\n",
      "Changes not staged for commit:\n",
      "  (use \"git add <file>...\" to update what will be committed)\n",
      "  (use \"git checkout -- <file>...\" to discard changes in working directory)\n",
      "\n",
      "\t\u001b[31mmodified:   .ipynb_checkpoints/08__Deep Neural Nets for Everyone-checkpoint.ipynb\u001b[m\n",
      "\t\u001b[31mmodified:   .ipynb_checkpoints/09__Neural Network 1-checkpoint.ipynb\u001b[m\n",
      "\t\u001b[31mmodified:   .ipynb_checkpoints/10__Neural Network 2.ipynb-checkpoint.ipynb\u001b[m\n",
      "\t\u001b[31mmodified:   .ipynb_checkpoints/11__Convolutional Neural Networks-checkpoint.ipynb\u001b[m\n",
      "\t\u001b[31mmodified:   .ipynb_checkpoints/12_Recurrent Neural Networ-checkpoint.ipynb\u001b[m\n",
      "\t\u001b[31mmodified:   08__Deep Neural Nets for Everyone.ipynb\u001b[m\n",
      "\t\u001b[31mmodified:   09__Neural Network 1.ipynb\u001b[m\n",
      "\t\u001b[31mmodified:   10__Neural Network 2.ipynb.ipynb\u001b[m\n",
      "\t\u001b[31mmodified:   11__Convolutional Neural Networks.ipynb\u001b[m\n",
      "\t\u001b[31mmodified:   12_Recurrent Neural Networ.ipynb\u001b[m\n",
      "\t\u001b[31mmodified:   git.ipynb\u001b[m\n",
      "\n",
      "Untracked files:\n",
      "  (use \"git add <file>...\" to include in what will be committed)\n",
      "\n",
      "\t\u001b[31m\".ipynb_checkpoints/\\352\\260\\204\\353\\213\\250\\355\\225\\234 \\353\\257\\270\\353\\266\\204(derivative) \\354\\240\\225\\353\\246\\254-checkpoint.ipynb\"\u001b[m\n",
      "\t\u001b[31mimages/lec8/\u001b[m\n",
      "\t\u001b[31mimages/lec9/\u001b[m\n",
      "\t\u001b[31m\"\\352\\260\\204\\353\\213\\250\\355\\225\\234 \\353\\257\\270\\353\\266\\204(derivative) \\354\\240\\225\\353\\246\\254.ipynb\"\u001b[m\n",
      "\n",
      "no changes added to commit (use \"git add\" and/or \"git commit -a\")\n"
     ]
    }
   ],
   "source": [
    "!git status"
   ]
  },
  {
   "cell_type": "code",
   "execution_count": 6,
   "metadata": {},
   "outputs": [
    {
     "name": "stdout",
     "output_type": "stream",
     "text": [
      "On branch master\n",
      "Your branch is up-to-date with 'origin/master'.\n",
      "\n",
      "Changes to be committed:\n",
      "  (use \"git reset HEAD <file>...\" to unstage)\n",
      "\n",
      "\t\u001b[32mmodified:   .ipynb_checkpoints/08__Deep Neural Nets for Everyone-checkpoint.ipynb\u001b[m\n",
      "\t\u001b[32mmodified:   .ipynb_checkpoints/09__Neural Network 1-checkpoint.ipynb\u001b[m\n",
      "\t\u001b[32mmodified:   .ipynb_checkpoints/10__Neural Network 2.ipynb-checkpoint.ipynb\u001b[m\n",
      "\t\u001b[32mmodified:   .ipynb_checkpoints/11__Convolutional Neural Networks-checkpoint.ipynb\u001b[m\n",
      "\t\u001b[32mmodified:   .ipynb_checkpoints/12_Recurrent Neural Networ-checkpoint.ipynb\u001b[m\n",
      "\t\u001b[32mnew file:   \".ipynb_checkpoints/\\352\\260\\204\\353\\213\\250\\355\\225\\234 \\353\\257\\270\\353\\266\\204(derivative) \\354\\240\\225\\353\\246\\254-checkpoint.ipynb\"\u001b[m\n",
      "\t\u001b[32mmodified:   08__Deep Neural Nets for Everyone.ipynb\u001b[m\n",
      "\t\u001b[32mmodified:   09__Neural Network 1.ipynb\u001b[m\n",
      "\t\u001b[32mmodified:   10__Neural Network 2.ipynb.ipynb\u001b[m\n",
      "\t\u001b[32mmodified:   11__Convolutional Neural Networks.ipynb\u001b[m\n",
      "\t\u001b[32mmodified:   12_Recurrent Neural Networ.ipynb\u001b[m\n",
      "\t\u001b[32mmodified:   git.ipynb\u001b[m\n",
      "\t\u001b[32mnew file:   images/lec8/xor_problem.png\u001b[m\n",
      "\t\u001b[32mnew file:   images/lec9/backpropagation-calculation.png\u001b[m\n",
      "\t\u001b[32mnew file:   images/lec9/backpropagation-deep.png\u001b[m\n",
      "\t\u001b[32mnew file:   images/lec9/backpropagation.png\u001b[m\n",
      "\t\u001b[32mnew file:   images/lec9/concave-convex-function.png\u001b[m\n",
      "\t\u001b[32mnew file:   images/lec9/forward-propagation-calculation.png\u001b[m\n",
      "\t\u001b[32mnew file:   images/lec9/forward-propagation-perceptron.png\u001b[m\n",
      "\t\u001b[32mnew file:   images/lec9/merge-perceptrons.png\u001b[m\n",
      "\t\u001b[32mnew file:   \"\\352\\260\\204\\353\\213\\250\\355\\225\\234 \\353\\257\\270\\353\\266\\204(derivative) \\354\\240\\225\\353\\246\\254.ipynb\"\u001b[m\n",
      "\n"
     ]
    }
   ],
   "source": [
    "!git add .\n",
    "!git status"
   ]
  },
  {
   "cell_type": "code",
   "execution_count": 7,
   "metadata": {},
   "outputs": [
    {
     "name": "stdout",
     "output_type": "stream",
     "text": [
      "[master f0896c4] notebook update\n",
      " 21 files changed, 853 insertions(+), 48 deletions(-)\n",
      " create mode 100644 \"tensorflow/sungkim/.ipynb_checkpoints/\\352\\260\\204\\353\\213\\250\\355\\225\\234 \\353\\257\\270\\353\\266\\204(derivative) \\354\\240\\225\\353\\246\\254-checkpoint.ipynb\"\n",
      " create mode 100644 tensorflow/sungkim/images/lec8/xor_problem.png\n",
      " create mode 100644 tensorflow/sungkim/images/lec9/backpropagation-calculation.png\n",
      " create mode 100644 tensorflow/sungkim/images/lec9/backpropagation-deep.png\n",
      " create mode 100644 tensorflow/sungkim/images/lec9/backpropagation.png\n",
      " create mode 100644 tensorflow/sungkim/images/lec9/concave-convex-function.png\n",
      " create mode 100644 tensorflow/sungkim/images/lec9/forward-propagation-calculation.png\n",
      " create mode 100644 tensorflow/sungkim/images/lec9/forward-propagation-perceptron.png\n",
      " create mode 100644 tensorflow/sungkim/images/lec9/merge-perceptrons.png\n",
      " create mode 100644 \"tensorflow/sungkim/\\352\\260\\204\\353\\213\\250\\355\\225\\234 \\353\\257\\270\\353\\266\\204(derivative) \\354\\240\\225\\353\\246\\254.ipynb\"\n",
      "On branch master\n",
      "Your branch is ahead of 'origin/master' by 1 commit.\n",
      "  (use \"git push\" to publish your local commits)\n",
      "\n",
      "nothing to commit, working tree clean\n"
     ]
    }
   ],
   "source": [
    "!git commit -m \"notebook update\"\n",
    "!git status"
   ]
  },
  {
   "cell_type": "code",
   "execution_count": 8,
   "metadata": {},
   "outputs": [
    {
     "name": "stdout",
     "output_type": "stream",
     "text": [
      "Counting objects: 24, done.\n",
      "Delta compression using up to 4 threads.\n",
      "Compressing objects: 100% (23/23), done.\n",
      "Writing objects: 100% (24/24), 527.92 KiB | 22.00 MiB/s, done.\n",
      "Total 24 (delta 9), reused 0 (delta 0)\n",
      "remote: Resolving deltas: 100% (9/9), completed with 5 local objects.\u001b[K\n",
      "To https://github.com/akagaeng/self-study.git\n",
      "   678cc70..f0896c4  master -> master\n",
      "Branch master set up to track remote branch master from origin.\n"
     ]
    }
   ],
   "source": [
    "!git push -u origin master"
   ]
  }
 ],
 "metadata": {
  "kernelspec": {
   "display_name": "Python 3",
   "language": "python",
   "name": "python3"
  },
  "language_info": {
   "codemirror_mode": {
    "name": "ipython",
    "version": 3
   },
   "file_extension": ".py",
   "mimetype": "text/x-python",
   "name": "python",
   "nbconvert_exporter": "python",
   "pygments_lexer": "ipython3",
   "version": "3.5.4"
  }
 },
 "nbformat": 4,
 "nbformat_minor": 2
}
