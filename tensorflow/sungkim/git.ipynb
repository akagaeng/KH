{
 "cells": [
  {
   "cell_type": "code",
   "execution_count": 2,
   "metadata": {},
   "outputs": [
    {
     "name": "stdout",
     "output_type": "stream",
     "text": [
      "On branch master\n",
      "Your branch is up-to-date with 'origin/master'.\n",
      "\n",
      "Changes not staged for commit:\n",
      "  (use \"git add <file>...\" to update what will be committed)\n",
      "  (use \"git checkout -- <file>...\" to discard changes in working directory)\n",
      "\n",
      "\t\u001b[31mmodified:   .ipynb_checkpoints/3_LAB_Minimizing Cost-checkpoint.ipynb\u001b[m\n",
      "\t\u001b[31mmodified:   .ipynb_checkpoints/4_LAB_Multi-variable_linear_regression-checkpoint.ipynb\u001b[m\n",
      "\t\u001b[31mmodified:   .ipynb_checkpoints/5__Logistic (regression) classification-checkpoint.ipynb\u001b[m\n",
      "\t\u001b[31mmodified:   3_LAB_Minimizing Cost.ipynb\u001b[m\n",
      "\t\u001b[31mmodified:   4_LAB_Multi-variable_linear_regression.ipynb\u001b[m\n",
      "\t\u001b[31mmodified:   5__Logistic (regression) classification.ipynb\u001b[m\n",
      "\n",
      "Untracked files:\n",
      "  (use \"git add <file>...\" to include in what will be committed)\n",
      "\n",
      "\t\u001b[31m../../.DS_Store\u001b[m\n",
      "\t\u001b[31m../.DS_Store\u001b[m\n",
      "\t\u001b[31m../external-resources/.DS_Store\u001b[m\n",
      "\t\u001b[31m../sk/.DS_Store\u001b[m\n",
      "\t\u001b[31m../sk/output/.DS_Store\u001b[m\n",
      "\t\u001b[31m.DS_Store\u001b[m\n",
      "\t\u001b[31m.ipynb_checkpoints/5_LAB_Logistic (regression) classification-checkpoint.ipynb\u001b[m\n",
      "\t\u001b[31m.ipynb_checkpoints/git-checkpoint.ipynb\u001b[m\n",
      "\t\u001b[31m5_LAB_Logistic (regression) classification.ipynb\u001b[m\n",
      "\t\u001b[31mdata/.DS_Store\u001b[m\n",
      "\t\u001b[31mgit.ipynb\u001b[m\n",
      "\t\u001b[31mimages/.DS_Store\u001b[m\n",
      "\n",
      "no changes added to commit (use \"git add\" and/or \"git commit -a\")\n"
     ]
    }
   ],
   "source": [
    "!git status"
   ]
  },
  {
   "cell_type": "code",
   "execution_count": null,
   "metadata": {},
   "outputs": [],
   "source": [
    "!git add ."
   ]
  }
 ],
 "metadata": {
  "kernelspec": {
   "display_name": "Python 3",
   "language": "python",
   "name": "python3"
  },
  "language_info": {
   "codemirror_mode": {
    "name": "ipython",
    "version": 3
   },
   "file_extension": ".py",
   "mimetype": "text/x-python",
   "name": "python",
   "nbconvert_exporter": "python",
   "pygments_lexer": "ipython3",
   "version": "3.5.4"
  }
 },
 "nbformat": 4,
 "nbformat_minor": 2
}
