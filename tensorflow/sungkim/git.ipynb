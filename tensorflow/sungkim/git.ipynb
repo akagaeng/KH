{
 "cells": [
  {
   "cell_type": "code",
   "execution_count": 25,
   "metadata": {},
   "outputs": [
    {
     "name": "stdout",
     "output_type": "stream",
     "text": [
      "On branch master\n",
      "Your branch is up-to-date with 'origin/master'.\n",
      "\n",
      "Changes not staged for commit:\n",
      "  (use \"git add <file>...\" to update what will be committed)\n",
      "  (use \"git checkout -- <file>...\" to discard changes in working directory)\n",
      "\n",
      "\t\u001b[31mmodified:   ../sk/.ipynb_checkpoints/3_MNIST-checkpoint.ipynb\u001b[m\n",
      "\t\u001b[31mmodified:   ../sk/3_MNIST.ipynb\u001b[m\n",
      "\t\u001b[31mmodified:   .ipynb_checkpoints/11__Convolutional Neural Networks-checkpoint.ipynb\u001b[m\n",
      "\t\u001b[31mmodified:   11__Convolutional Neural Networks.ipynb\u001b[m\n",
      "\t\u001b[31mmodified:   git.ipynb\u001b[m\n",
      "\n",
      "no changes added to commit (use \"git add\" and/or \"git commit -a\")\n"
     ]
    }
   ],
   "source": [
    "!git status"
   ]
  },
  {
   "cell_type": "code",
   "execution_count": 26,
   "metadata": {},
   "outputs": [
    {
     "name": "stdout",
     "output_type": "stream",
     "text": [
      "On branch master\n",
      "Your branch is up-to-date with 'origin/master'.\n",
      "\n",
      "Changes to be committed:\n",
      "  (use \"git reset HEAD <file>...\" to unstage)\n",
      "\n",
      "\t\u001b[32mmodified:   .ipynb_checkpoints/11__Convolutional Neural Networks-checkpoint.ipynb\u001b[m\n",
      "\t\u001b[32mmodified:   11__Convolutional Neural Networks.ipynb\u001b[m\n",
      "\t\u001b[32mmodified:   git.ipynb\u001b[m\n",
      "\n",
      "Changes not staged for commit:\n",
      "  (use \"git add <file>...\" to update what will be committed)\n",
      "  (use \"git checkout -- <file>...\" to discard changes in working directory)\n",
      "\n",
      "\t\u001b[31mmodified:   ../sk/.ipynb_checkpoints/3_MNIST-checkpoint.ipynb\u001b[m\n",
      "\t\u001b[31mmodified:   ../sk/3_MNIST.ipynb\u001b[m\n",
      "\n"
     ]
    }
   ],
   "source": [
    "!git add .\n",
    "!git status"
   ]
  },
  {
   "cell_type": "code",
   "execution_count": 27,
   "metadata": {},
   "outputs": [
    {
     "name": "stdout",
     "output_type": "stream",
     "text": [
      "[master fa8c198] notebook update\n",
      " 3 files changed, 126 insertions(+), 23 deletions(-)\n",
      "On branch master\n",
      "Your branch is ahead of 'origin/master' by 1 commit.\n",
      "  (use \"git push\" to publish your local commits)\n",
      "\n",
      "Changes not staged for commit:\n",
      "  (use \"git add <file>...\" to update what will be committed)\n",
      "  (use \"git checkout -- <file>...\" to discard changes in working directory)\n",
      "\n",
      "\t\u001b[31mmodified:   ../sk/.ipynb_checkpoints/3_MNIST-checkpoint.ipynb\u001b[m\n",
      "\t\u001b[31mmodified:   ../sk/3_MNIST.ipynb\u001b[m\n",
      "\n",
      "no changes added to commit (use \"git add\" and/or \"git commit -a\")\n"
     ]
    }
   ],
   "source": [
    "!git commit -m \"notebook update\"\n",
    "!git status"
   ]
  },
  {
   "cell_type": "code",
   "execution_count": 28,
   "metadata": {},
   "outputs": [
    {
     "name": "stdout",
     "output_type": "stream",
     "text": [
      "Counting objects: 7, done.\n",
      "Delta compression using up to 4 threads.\n",
      "Compressing objects: 100% (7/7), done.\n",
      "Writing objects: 100% (7/7), 3.24 KiB | 3.24 MiB/s, done.\n",
      "Total 7 (delta 5), reused 0 (delta 0)\n",
      "remote: Resolving deltas: 100% (5/5), completed with 5 local objects.\u001b[K\n",
      "To https://github.com/akagaeng/self-study.git\n",
      "   bd10b5d..fa8c198  master -> master\n",
      "Branch master set up to track remote branch master from origin.\n"
     ]
    }
   ],
   "source": [
    "!git push -u origin master"
   ]
  }
 ],
 "metadata": {
  "kernelspec": {
   "display_name": "Python 3",
   "language": "python",
   "name": "python3"
  },
  "language_info": {
   "codemirror_mode": {
    "name": "ipython",
    "version": 3
   },
   "file_extension": ".py",
   "mimetype": "text/x-python",
   "name": "python",
   "nbconvert_exporter": "python",
   "pygments_lexer": "ipython3",
   "version": "3.5.4"
  }
 },
 "nbformat": 4,
 "nbformat_minor": 2
}
