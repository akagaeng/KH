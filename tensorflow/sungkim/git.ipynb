{
 "cells": [
  {
   "cell_type": "code",
   "execution_count": 2,
   "metadata": {},
   "outputs": [
    {
     "name": "stdout",
     "output_type": "stream",
     "text": [
      "On branch master\n",
      "Your branch is up-to-date with 'origin/master'.\n",
      "\n",
      "Changes not staged for commit:\n",
      "  (use \"git add <file>...\" to update what will be committed)\n",
      "  (use \"git checkout -- <file>...\" to discard changes in working directory)\n",
      "\n",
      "\t\u001b[31mmodified:   .ipynb_checkpoints/3_LAB_Minimizing Cost-checkpoint.ipynb\u001b[m\n",
      "\t\u001b[31mmodified:   .ipynb_checkpoints/4_LAB_Multi-variable_linear_regression-checkpoint.ipynb\u001b[m\n",
      "\t\u001b[31mmodified:   .ipynb_checkpoints/5__Logistic (regression) classification-checkpoint.ipynb\u001b[m\n",
      "\t\u001b[31mmodified:   3_LAB_Minimizing Cost.ipynb\u001b[m\n",
      "\t\u001b[31mmodified:   4_LAB_Multi-variable_linear_regression.ipynb\u001b[m\n",
      "\t\u001b[31mmodified:   5__Logistic (regression) classification.ipynb\u001b[m\n",
      "\n",
      "Untracked files:\n",
      "  (use \"git add <file>...\" to include in what will be committed)\n",
      "\n",
      "\t\u001b[31m../../.DS_Store\u001b[m\n",
      "\t\u001b[31m../.DS_Store\u001b[m\n",
      "\t\u001b[31m../external-resources/.DS_Store\u001b[m\n",
      "\t\u001b[31m../sk/.DS_Store\u001b[m\n",
      "\t\u001b[31m../sk/output/.DS_Store\u001b[m\n",
      "\t\u001b[31m.DS_Store\u001b[m\n",
      "\t\u001b[31m.ipynb_checkpoints/5_LAB_Logistic (regression) classification-checkpoint.ipynb\u001b[m\n",
      "\t\u001b[31m.ipynb_checkpoints/git-checkpoint.ipynb\u001b[m\n",
      "\t\u001b[31m5_LAB_Logistic (regression) classification.ipynb\u001b[m\n",
      "\t\u001b[31mdata/.DS_Store\u001b[m\n",
      "\t\u001b[31mgit.ipynb\u001b[m\n",
      "\t\u001b[31mimages/.DS_Store\u001b[m\n",
      "\n",
      "no changes added to commit (use \"git add\" and/or \"git commit -a\")\n"
     ]
    }
   ],
   "source": [
    "!git status"
   ]
  },
  {
   "cell_type": "code",
   "execution_count": 11,
   "metadata": {},
   "outputs": [
    {
     "name": "stdout",
     "output_type": "stream",
     "text": [
      "On branch master\n",
      "Your branch is up-to-date with 'origin/master'.\n",
      "\n",
      "Changes to be committed:\n",
      "  (use \"git reset HEAD <file>...\" to unstage)\n",
      "\n",
      "\t\u001b[32mmodified:   .ipynb_checkpoints/6_LAB_Softmax Classifier-checkpoint.ipynb\u001b[m\n",
      "\t\u001b[32mmodified:   .ipynb_checkpoints/7_LAB_ML Application & Tips-checkpoint.ipynb\u001b[m\n",
      "\t\u001b[32mmodified:   6_LAB_Softmax Classifier.ipynb\u001b[m\n",
      "\t\u001b[32mmodified:   7_LAB_ML Application & Tips.ipynb\u001b[m\n",
      "\n"
     ]
    }
   ],
   "source": [
    "!git add .\n",
    "!git status"
   ]
  },
  {
   "cell_type": "code",
   "execution_count": 12,
   "metadata": {},
   "outputs": [
    {
     "name": "stdout",
     "output_type": "stream",
     "text": [
      "[master 2937ee0] notebook update\n",
      " 4 files changed, 710 insertions(+), 4 deletions(-)\n",
      "On branch master\n",
      "Your branch is ahead of 'origin/master' by 1 commit.\n",
      "  (use \"git push\" to publish your local commits)\n",
      "\n",
      "nothing to commit, working tree clean\n"
     ]
    }
   ],
   "source": [
    "!git commit -m \"notebook update\"\n",
    "!git status"
   ]
  },
  {
   "cell_type": "code",
   "execution_count": 13,
   "metadata": {},
   "outputs": [
    {
     "name": "stdout",
     "output_type": "stream",
     "text": [
      "Counting objects: 7, done.\n",
      "Delta compression using up to 4 threads.\n",
      "Compressing objects: 100% (7/7), done.\n",
      "Writing objects: 100% (7/7), 3.94 KiB | 3.94 MiB/s, done.\n",
      "Total 7 (delta 5), reused 0 (delta 0)\n",
      "remote: Resolving deltas: 100% (5/5), completed with 4 local objects.\u001b[K\n",
      "To https://github.com/akagaeng/self-study.git\n",
      "   3a17bac..2937ee0  master -> master\n",
      "Branch master set up to track remote branch master from origin.\n"
     ]
    }
   ],
   "source": [
    "!git push -u origin master"
   ]
  },
  {
   "cell_type": "code",
   "execution_count": null,
   "metadata": {},
   "outputs": [],
   "source": []
  }
 ],
 "metadata": {
  "kernelspec": {
   "display_name": "Python 3",
   "language": "python",
   "name": "python3"
  },
  "language_info": {
   "codemirror_mode": {
    "name": "ipython",
    "version": 3
   },
   "file_extension": ".py",
   "mimetype": "text/x-python",
   "name": "python",
   "nbconvert_exporter": "python",
   "pygments_lexer": "ipython3",
   "version": "3.5.4"
  }
 },
 "nbformat": 4,
 "nbformat_minor": 2
}
