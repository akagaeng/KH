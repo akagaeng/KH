{
 "cells": [
  {
   "cell_type": "markdown",
   "metadata": {},
   "source": [
    "# [LAB 7-2] MNIST data\n",
    "\n",
    "- [실습 동영상 7-2](https://youtu.be/ktd5yrki_KA): MNIST data\n",
    "- [실습 슬라이드 7](https://docs.google.com/presentation/d/1cVwqMpERToATs1JGYps0F3MLARP8OAlw6ZIe-lpPHYs)\n",
    "- download MNIST dataset: http://yann.lecun.com/exdb/mnist/\n",
    "- 참고자료: https://www.tensorflow.org/get_started/mnist/beginners"
   ]
  },
  {
   "cell_type": "markdown",
   "metadata": {},
   "source": [
    "### MNIST dataset\n",
    "- 우편번호를 컴퓨터가 자동으로 읽도록 만들어둔 데이터셋\n",
    "- 28x28 이미지로 각각 구성됨(784=28*28)"
   ]
  },
  {
   "cell_type": "code",
   "execution_count": 1,
   "metadata": {},
   "outputs": [
    {
     "data": {
      "text/plain": [
       "784"
      ]
     },
     "execution_count": 1,
     "metadata": {},
     "output_type": "execute_result"
    }
   ],
   "source": [
    "28*28"
   ]
  },
  {
   "cell_type": "code",
   "execution_count": 5,
   "metadata": {},
   "outputs": [
    {
     "name": "stdout",
     "output_type": "stream",
     "text": [
      "Extracting MNIST_from_tf_tutorials/train-images-idx3-ubyte.gz\n",
      "Extracting MNIST_from_tf_tutorials/train-labels-idx1-ubyte.gz\n",
      "Extracting MNIST_from_tf_tutorials/t10k-images-idx3-ubyte.gz\n",
      "Extracting MNIST_from_tf_tutorials/t10k-labels-idx1-ubyte.gz\n"
     ]
    }
   ],
   "source": [
    "import tensorflow as tf\n",
    "import random\n",
    "import matplotlib.pyplot as plt\n",
    "\n",
    "# download from web automatically\n",
    "\n",
    "# tensorflow.org/get_started/mnist/beginners\n",
    "from tensorflow.examples.tutorials.mnist import input_data\n",
    "mnist = input_data.read_data_sets(\"MNIST_from_tf_tutorials/\", one_hot=True)\n",
    "\n",
    "# download from http://yann.lecun.com/exdb/mnist/\n",
    "# mnist = input_data.read_data_sets(\"MNIST_from_yann_lecun/\", one_hot=True) # one_hot=True로 읽어오면서 one_hot으로 변환해서 읽어오게 한다.\n",
    "\n",
    "nb_classes = 10\n",
    "learning_rate = 0.1\n",
    "\n",
    "# MNIST data image of shape 28*28 = 784\n",
    "X = tf.placeholder(tf.float32, [None, 784])\n",
    "# 0~9 digits recognition = 10 classes\n",
    "Y = tf.placeholder(tf.float32, [None, nb_classes])\n",
    "\n",
    "W = tf.Variable(tf.random_normal([784, nb_classes]))\n",
    "b = tf.Variable(tf.random_normal([nb_classes]))\n",
    "\n",
    "# SOFTMAX\n",
    "\n",
    "# hypothesis (using softmax)\n",
    "hypothesis = tf.nn.softmax(tf.matmul(X, W) + b)\n",
    "\n",
    "cost = tf.reduce_mean(-tf.reduce_sum(Y * tf.log(hypothesis), axis=1))\n",
    "optimizer = tf.train.GradientDescentOptimizer(learning_rate=learning_rate).minimize(cost)\n",
    "\n",
    "# Test model\n",
    "is_correct = tf.equal(tf.argmax(hypothesis, 1), tf.argmax(Y,1))\n",
    "# Calculate accuracy\n",
    "accuracy = tf.reduce_mean(tf.cast(is_correct, tf.float32))\n"
   ]
  },
  {
   "cell_type": "markdown",
   "metadata": {},
   "source": [
    "## Training epoch/batch\n",
    "- 데이터셋이 너무 많아 한번에 학습시킬 수 없어서 batch로 나누어 학습시킴\n",
    "- epoch: 전체 데이터셋\n",
    "- `epoch = batch_size * iteration`\n",
    "- 전체 데이터셋(epoch)을 학습시키려면 일정 단위로 나누어진 크기(batch_size)만큼 일정 횟수 반복해야 한다(iteration)"
   ]
  },
  {
   "cell_type": "code",
   "execution_count": null,
   "metadata": {},
   "outputs": [],
   "source": [
    "training_epochs = 5\n",
    "batch_size = 100\n",
    "\n",
    "with tf.Session() as sess:\n",
    "    # Initialize Tensorflow variables\n",
    "    sess.run(tf.global_variables_initializer())\n",
    "    # Training cycle\n",
    "    for epoch in range(training_epochs):\n",
    "        avg_cost = 0\n",
    "        total_batch = int(mnist.train.num_examples / batch_size)\n",
    "        \n",
    "        for i in range(total_batch):\n",
    "            batch_xs, batch_ys = mnist.train.next_batch(batch_size)\n",
    "            c, _ = sess.run([cost, optimizer], feed_dict={X: batch_xs, Y: batch_ys})\n",
    "            avg_cost += c / total_batch\n",
    "        \n",
    "        print(\"Epoch: \", \"%04d\" % (epoch + 1), \"\\ncost = \", \"{:.9f}\".format(avg_cost))\n",
    "        \n",
    "        print(\"Learning finished\")\n",
    "\n",
    "        # Test the model using test sets\n",
    "        print(\"Accuracy: \", accuracy.eval(session=sess, feed_dict={\n",
    "              X: mnist.test.images, Y: mnist.test.labels}))\n",
    "\n",
    "        # Get one and predict\n",
    "        r = random.randint(0, mnist.test.num_examples - 1)\n",
    "        print(\"Label: \", sess.run(tf.argmax(mnist.test.labels[r:r + 1], 1)))\n",
    "        print(\"Prediction: \", sess.run(\n",
    "            tf.argmax(hypothesis, 1), feed_dict={X: mnist.test.images[r:r + 1]}))\n",
    "\n",
    "        plt.imshow(\n",
    "            mnist.test.images[r:r + 1].reshape(28, 28),\n",
    "            cmap='Greys',\n",
    "            interpolation='nearest')\n",
    "        plt.show()"
   ]
  }
 ],
 "metadata": {
  "kernelspec": {
   "display_name": "Python 3",
   "language": "python",
   "name": "python3"
  },
  "language_info": {
   "codemirror_mode": {
    "name": "ipython",
    "version": 3
   },
   "file_extension": ".py",
   "mimetype": "text/x-python",
   "name": "python",
   "nbconvert_exporter": "python",
   "pygments_lexer": "ipython3",
   "version": "3.5.4"
  }
 },
 "nbformat": 4,
 "nbformat_minor": 2
}
