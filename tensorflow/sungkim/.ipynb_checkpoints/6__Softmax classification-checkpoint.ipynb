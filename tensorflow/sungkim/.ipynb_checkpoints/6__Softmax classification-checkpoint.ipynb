{
 "cells": [
  {
   "cell_type": "markdown",
   "metadata": {},
   "source": [
    "# 6. Softmax classification\n",
    "\n",
    "- [강의 동영상 6-1](https://youtu.be/PIjno6paszY): Multinomial classification\n",
    "- [강의 동영상 6-2](https://youtu.be/6vzchGYEJBc): Softmax and Cost function\n",
    "- [강의 슬라이드 6-1, 6-2](https://hunkim.github.io/ml/lec6.pdf)\n"
   ]
  },
  {
   "cell_type": "markdown",
   "metadata": {},
   "source": [
    "# Multinomial Classification\n",
    "- 여러개의 클래스가 있을 때\n",
    "\n",
    "### 박스 그래프에서 기호의 의미\n",
    "- $\\bar{Y} = H(x)$로써 예측값을 의미하며, $Y$는 실제값을 의미한다. $(Y\\neq \\bar{Y})$\n",
    "- $\\int$ 모양은 sigmoid의 symbol\n",
    "\n",
    "### Binary Classification의 경우\n",
    "\"W를 학습한다\", \"또는 logistic classification을 학습시킨다\"\n",
    "- = 두 class를 구분하는 선을 긋는다(찾아낸다)고 생각하면 된다.\n",
    "\n",
    "\n",
    "### Multinomial Classification의 경우\n",
    "\"W를 학습한다\", \"또는 logistic classification을 학습시킨다\"\n",
    "- = 여러 class를 구분하는 선을 여러개 긋는다(찾아낸다)고 생각하면 된다.\n",
    "- = binary classification을 class만큼 수행한다.\n",
    "\n",
    "![multinomial classification](images/lec6/multinomial_classification.png)\n",
    "\n"
   ]
  }
 ],
 "metadata": {
  "kernelspec": {
   "display_name": "Python 3",
   "language": "python",
   "name": "python3"
  },
  "language_info": {
   "codemirror_mode": {
    "name": "ipython",
    "version": 3
   },
   "file_extension": ".py",
   "mimetype": "text/x-python",
   "name": "python",
   "nbconvert_exporter": "python",
   "pygments_lexer": "ipython3",
   "version": "3.5.4"
  }
 },
 "nbformat": 4,
 "nbformat_minor": 2
}
