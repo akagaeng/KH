{
 "cells": [
  {
   "cell_type": "markdown",
   "metadata": {},
   "source": [
    "# 11. Convolutional Neural Networks\n",
    "- [강의 동영상 11-1](https://youtu.be/Em63mknbtWo): ConvNet의 Conv 레이어 만들기\n",
    "- [강의 동영상 11-2](https://youtu.be/2-75C-yZaoA): ConvNet Max pooling 과 Full Network\n",
    "- [강의 동영상 11-3](https://youtu.be/KbNbWTnlYXs): ConvNet의 활용예\n",
    "- [강의 슬라이드 11-1, 11-2, 11-3](https://hunkim.github.io/ml/lec11.pdf)"
   ]
  },
  {
   "cell_type": "markdown",
   "metadata": {},
   "source": [
    "### Convolutional Neural network\n",
    "- 고양이 시각 실험에서 시작\n",
    "- 이미지를 회전시켜봤더니 뉴런 전체가 변화하는 것이 아니라 일부분만 변화하는데서 착안\n",
    "- 그림 전체를 일부분씩 잘라서 각각의 입력으로 넣어서 학습시킨다.\n",
    "- convolution층, RELU층, POOL층 등을 쌓아서 학습시킴\n",
    "\n"
   ]
  },
  {
   "cell_type": "markdown",
   "metadata": {},
   "source": [
    "### CNN on image (Start with an image)\n",
    "\n",
    "- 이미지 표현: width x height x depth\n",
    "- image = 32 x 32 x 3인 경우 => 가로 32, 세로 32, 색상(RGB)=3\n",
    "- 전체 이미지를 하나의 입력으로 받지 않고, 각 부분들을 각각의 입력으로 받은 후에 처리\n",
    "- filter = 5 x 5 x 3 인 경우 => 가로 5, 세로 5, 색상(RGC)=3\n",
    "- **filter**는 이미지의 각 부분의 처리를 담당하는데, 쉽게말하면 이미지의 각 부분을 하나의 숫자로 표현하게 해준다!\n",
    "- input x --- **filter** ---> one number!\n",
    "- x1, x2, ... (5x5x3개) --- **filter** ---> ReLU(WX+b)\n",
    "- 계산 횟수 구하는 방법(총 모아지는 값의 갯수) (How many numbers can we get?)\n",
    "  + $$\n",
    "![image-CNN.png](images/lec11/image-CNN.png)"
   ]
  }
 ],
 "metadata": {
  "kernelspec": {
   "display_name": "Python 3",
   "language": "python",
   "name": "python3"
  },
  "language_info": {
   "codemirror_mode": {
    "name": "ipython",
    "version": 3
   },
   "file_extension": ".py",
   "mimetype": "text/x-python",
   "name": "python",
   "nbconvert_exporter": "python",
   "pygments_lexer": "ipython3",
   "version": "3.5.4"
  }
 },
 "nbformat": 4,
 "nbformat_minor": 2
}
