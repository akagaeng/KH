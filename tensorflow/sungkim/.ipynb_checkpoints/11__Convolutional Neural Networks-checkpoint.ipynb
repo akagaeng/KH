{
 "cells": [
  {
   "cell_type": "markdown",
   "metadata": {},
   "source": [
    "# 11. Convolutional Neural Networks\n",
    "- [강의 동영상 11-1](https://youtu.be/Em63mknbtWo): ConvNet의 Conv 레이어 만들기\n",
    "- [강의 동영상 11-2](https://youtu.be/2-75C-yZaoA): ConvNet Max pooling 과 Full Network\n",
    "- [강의 동영상 11-3](https://youtu.be/KbNbWTnlYXs): ConvNet의 활용예\n",
    "- [강의 슬라이드 11-1, 11-2, 11-3](https://hunkim.github.io/ml/lec11.pdf)"
   ]
  }
 ],
 "metadata": {
  "kernelspec": {
   "display_name": "Python 3",
   "language": "python",
   "name": "python3"
  },
  "language_info": {
   "codemirror_mode": {
    "name": "ipython",
    "version": 3
   },
   "file_extension": ".py",
   "mimetype": "text/x-python",
   "name": "python",
   "nbconvert_exporter": "python",
   "pygments_lexer": "ipython3",
   "version": "3.5.4"
  }
 },
 "nbformat": 4,
 "nbformat_minor": 2
}
