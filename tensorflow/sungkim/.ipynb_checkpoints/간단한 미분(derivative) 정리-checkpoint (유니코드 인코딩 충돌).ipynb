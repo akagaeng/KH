{
 "cells": [
  {
   "cell_type": "markdown",
   "metadata": {},
   "source": [
    "### 미분(Basic Derivative)\n",
    "- 간단히 미분은 순간변화율이라고 생각하면 된다!\n",
    "- $\\frac{df}{dx}$처럼 줄여서 쓰기도 한다.\n",
    "\n",
    "$$\n",
    "\\frac{d}{dx}f(x) = \\lim_{\\Delta x \\to 0} \\frac{f(x)+\\Delta x) - f(x)}{\\Delta x}\n",
    "$$\n",
    "\n",
    "### 편미분(Partial Derivative)\n"
   ]
  }
 ],
 "metadata": {
  "kernelspec": {
   "display_name": "Python 3",
   "language": "python",
   "name": "python3"
  },
  "language_info": {
   "codemirror_mode": {
    "name": "ipython",
    "version": 3
   },
   "file_extension": ".py",
   "mimetype": "text/x-python",
   "name": "python",
   "nbconvert_exporter": "python",
   "pygments_lexer": "ipython3",
   "version": "3.5.4"
  }
 },
 "nbformat": 4,
 "nbformat_minor": 2
}
