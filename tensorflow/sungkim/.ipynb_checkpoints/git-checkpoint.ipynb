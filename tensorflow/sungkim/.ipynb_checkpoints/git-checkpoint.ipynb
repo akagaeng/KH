{
 "cells": [
  {
   "cell_type": "code",
   "execution_count": 22,
   "metadata": {},
   "outputs": [
    {
     "name": "stdout",
     "output_type": "stream",
     "text": [
      "On branch master\n",
      "Your branch is up-to-date with 'origin/master'.\n",
      "\n",
      "nothing to commit, working tree clean\n"
     ]
    }
   ],
   "source": [
    "!git status"
   ]
  },
  {
   "cell_type": "code",
   "execution_count": 19,
   "metadata": {},
   "outputs": [
    {
     "name": "stdout",
     "output_type": "stream",
     "text": [
      "On branch master\n",
      "Your branch is up-to-date with 'origin/master'.\n",
      "\n",
      "Changes to be committed:\n",
      "  (use \"git reset HEAD <file>...\" to unstage)\n",
      "\n",
      "\t\u001b[32mnew file:   .ipynb_checkpoints/7_LAB1_Learning rate & Evaluation-checkpoint.ipynb\u001b[m\n",
      "\t\u001b[32mrenamed:    .ipynb_checkpoints/7_LAB_ML Application & Tips-checkpoint.ipynb -> .ipynb_checkpoints/7_LAB2_MNIST data-checkpoint.ipynb\u001b[m\n",
      "\t\u001b[32mmodified:   .ipynb_checkpoints/7__ML Application & Tips-checkpoint.ipynb\u001b[m\n",
      "\t\u001b[32mnew file:   7_LAB1_Learning rate & Evaluation.ipynb\u001b[m\n",
      "\t\u001b[32mrenamed:    7_LAB_ML Application & Tips.ipynb -> 7_LAB2_MNIST data.ipynb\u001b[m\n",
      "\t\u001b[32mmodified:   7__ML Application & Tips.ipynb\u001b[m\n",
      "\t\u001b[32mmodified:   git.ipynb\u001b[m\n",
      "\t\u001b[32mnew file:   images/lab7/learning-rate.png\u001b[m\n",
      "\n"
     ]
    }
   ],
   "source": [
    "!git add .\n",
    "!git status"
   ]
  },
  {
   "cell_type": "code",
   "execution_count": 20,
   "metadata": {},
   "outputs": [
    {
     "name": "stdout",
     "output_type": "stream",
     "text": [
      "[master e0eefea] notebook update\n",
      " 8 files changed, 1457 insertions(+), 30 deletions(-)\n",
      " create mode 100644 tensorflow/sungkim/.ipynb_checkpoints/7_LAB1_Learning rate & Evaluation-checkpoint.ipynb\n",
      " rename tensorflow/sungkim/.ipynb_checkpoints/{7_LAB_ML Application & Tips-checkpoint.ipynb => 7_LAB2_MNIST data-checkpoint.ipynb} (80%)\n",
      " create mode 100644 tensorflow/sungkim/7_LAB1_Learning rate & Evaluation.ipynb\n",
      " rename tensorflow/sungkim/{7_LAB_ML Application & Tips.ipynb => 7_LAB2_MNIST data.ipynb} (80%)\n",
      " create mode 100644 tensorflow/sungkim/images/lab7/learning-rate.png\n",
      "On branch master\n",
      "Your branch is ahead of 'origin/master' by 1 commit.\n",
      "  (use \"git push\" to publish your local commits)\n",
      "\n",
      "nothing to commit, working tree clean\n"
     ]
    }
   ],
   "source": [
    "!git commit -m \"notebook update\"\n",
    "!git status"
   ]
  },
  {
   "cell_type": "code",
   "execution_count": 21,
   "metadata": {},
   "outputs": [
    {
     "name": "stdout",
     "output_type": "stream",
     "text": [
      "Counting objects: 13, done.\n",
      "Delta compression using up to 4 threads.\n",
      "Compressing objects: 100% (12/12), done.\n",
      "Writing objects: 100% (13/13), 95.25 KiB | 10.58 MiB/s, done.\n",
      "Total 13 (delta 7), reused 0 (delta 0)\n",
      "remote: Resolving deltas: 100% (7/7), completed with 6 local objects.\u001b[K\n",
      "To https://github.com/akagaeng/self-study.git\n",
      "   6db779c..e0eefea  master -> master\n",
      "Branch master set up to track remote branch master from origin.\n"
     ]
    }
   ],
   "source": [
    "!git push -u origin master"
   ]
  },
  {
   "cell_type": "code",
   "execution_count": null,
   "metadata": {},
   "outputs": [],
   "source": []
  }
 ],
 "metadata": {
  "kernelspec": {
   "display_name": "Python 3",
   "language": "python",
   "name": "python3"
  },
  "language_info": {
   "codemirror_mode": {
    "name": "ipython",
    "version": 3
   },
   "file_extension": ".py",
   "mimetype": "text/x-python",
   "name": "python",
   "nbconvert_exporter": "python",
   "pygments_lexer": "ipython3",
   "version": "3.5.4"
  }
 },
 "nbformat": 4,
 "nbformat_minor": 2
}
