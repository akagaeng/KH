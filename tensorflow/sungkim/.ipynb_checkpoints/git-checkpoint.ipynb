{
 "cells": [
  {
   "cell_type": "code",
   "execution_count": 10,
   "metadata": {},
   "outputs": [
    {
     "name": "stdout",
     "output_type": "stream",
     "text": [
      "On branch master\n",
      "Your branch is up-to-date with 'origin/master'.\n",
      "\n",
      "Changes not staged for commit:\n",
      "  (use \"git add/rm <file>...\" to update what will be committed)\n",
      "  (use \"git checkout -- <file>...\" to discard changes in working directory)\n",
      "\n",
      "\t\u001b[31mdeleted:    .ipynb_checkpoints/12_LAB1_-checkpoint.ipynb\u001b[m\n",
      "\t\u001b[31mmodified:   .ipynb_checkpoints/12_LAB2_Hi Hello RNN Traning-checkpoint.ipynb\u001b[m\n",
      "\t\u001b[31mmodified:   .ipynb_checkpoints/12_LAB3_Long Sequence RNN-checkpoint.ipynb\u001b[m\n",
      "\t\u001b[31mmodified:   .ipynb_checkpoints/12_LAB4_Stacked RNN + Softmax Layer-checkpoint.ipynb\u001b[m\n",
      "\t\u001b[31mmodified:   .ipynb_checkpoints/12_LAB5_Dynamic RNN-checkpoint.ipynb\u001b[m\n",
      "\t\u001b[31mdeleted:    .ipynb_checkpoints/12_LAB6_-checkpoint.ipynb\u001b[m\n",
      "\t\u001b[31mdeleted:    12_LAB1_.ipynb\u001b[m\n",
      "\t\u001b[31mmodified:   12_LAB2_Hi Hello RNN Traning.ipynb\u001b[m\n",
      "\t\u001b[31mmodified:   12_LAB3_Long Sequence RNN.ipynb\u001b[m\n",
      "\t\u001b[31mmodified:   12_LAB4_Stacked RNN + Softmax Layer.ipynb\u001b[m\n",
      "\t\u001b[31mmodified:   12_LAB5_Dynamic RNN.ipynb\u001b[m\n",
      "\t\u001b[31mdeleted:    12_LAB6_.ipynb\u001b[m\n",
      "\n",
      "Untracked files:\n",
      "  (use \"git add <file>...\" to include in what will be committed)\n",
      "\n",
      "\t\u001b[31m.ipynb_checkpoints/12_LAB1_RNN_Basics-checkpoint.ipynb\u001b[m\n",
      "\t\u001b[31m.ipynb_checkpoints/12_LAB6_RNN with time series data(stock)-checkpoint.ipynb\u001b[m\n",
      "\t\u001b[31m12_LAB1_RNN_Basics.ipynb\u001b[m\n",
      "\t\u001b[31m12_LAB6_RNN with time series data(stock).ipynb\u001b[m\n",
      "\n",
      "no changes added to commit (use \"git add\" and/or \"git commit -a\")\n"
     ]
    }
   ],
   "source": [
    "!git status"
   ]
  },
  {
   "cell_type": "code",
   "execution_count": 11,
   "metadata": {},
   "outputs": [
    {
     "name": "stdout",
     "output_type": "stream",
     "text": [
      "On branch master\n",
      "Your branch is up-to-date with 'origin/master'.\n",
      "\n",
      "Changes to be committed:\n",
      "  (use \"git reset HEAD <file>...\" to unstage)\n",
      "\n",
      "\t\u001b[32mdeleted:    .ipynb_checkpoints/12_LAB1_-checkpoint.ipynb\u001b[m\n",
      "\t\u001b[32mnew file:   .ipynb_checkpoints/12_LAB1_RNN_Basics-checkpoint.ipynb\u001b[m\n",
      "\t\u001b[32mmodified:   .ipynb_checkpoints/12_LAB2_Hi Hello RNN Traning-checkpoint.ipynb\u001b[m\n",
      "\t\u001b[32mmodified:   .ipynb_checkpoints/12_LAB3_Long Sequence RNN-checkpoint.ipynb\u001b[m\n",
      "\t\u001b[32mmodified:   .ipynb_checkpoints/12_LAB4_Stacked RNN + Softmax Layer-checkpoint.ipynb\u001b[m\n",
      "\t\u001b[32mmodified:   .ipynb_checkpoints/12_LAB5_Dynamic RNN-checkpoint.ipynb\u001b[m\n",
      "\t\u001b[32mdeleted:    .ipynb_checkpoints/12_LAB6_-checkpoint.ipynb\u001b[m\n",
      "\t\u001b[32mnew file:   .ipynb_checkpoints/12_LAB6_RNN with time series data(stock)-checkpoint.ipynb\u001b[m\n",
      "\t\u001b[32mdeleted:    12_LAB1_.ipynb\u001b[m\n",
      "\t\u001b[32mnew file:   12_LAB1_RNN_Basics.ipynb\u001b[m\n",
      "\t\u001b[32mmodified:   12_LAB2_Hi Hello RNN Traning.ipynb\u001b[m\n",
      "\t\u001b[32mmodified:   12_LAB3_Long Sequence RNN.ipynb\u001b[m\n",
      "\t\u001b[32mmodified:   12_LAB4_Stacked RNN + Softmax Layer.ipynb\u001b[m\n",
      "\t\u001b[32mmodified:   12_LAB5_Dynamic RNN.ipynb\u001b[m\n",
      "\t\u001b[32mdeleted:    12_LAB6_.ipynb\u001b[m\n",
      "\t\u001b[32mnew file:   12_LAB6_RNN with time series data(stock).ipynb\u001b[m\n",
      "\n"
     ]
    }
   ],
   "source": [
    "!git add .\n",
    "!git status"
   ]
  },
  {
   "cell_type": "code",
   "execution_count": 12,
   "metadata": {},
   "outputs": [
    {
     "name": "stdout",
     "output_type": "stream",
     "text": [
      "[master ed2adf6] notebook update\n",
      " 16 files changed, 110430 insertions(+), 142 deletions(-)\n",
      " delete mode 100644 tensorflow/sungkim/.ipynb_checkpoints/12_LAB1_-checkpoint.ipynb\n",
      " create mode 100644 tensorflow/sungkim/.ipynb_checkpoints/12_LAB1_RNN_Basics-checkpoint.ipynb\n",
      " delete mode 100644 tensorflow/sungkim/.ipynb_checkpoints/12_LAB6_-checkpoint.ipynb\n",
      " create mode 100644 tensorflow/sungkim/.ipynb_checkpoints/12_LAB6_RNN with time series data(stock)-checkpoint.ipynb\n",
      " delete mode 100644 tensorflow/sungkim/12_LAB1_.ipynb\n",
      " create mode 100644 tensorflow/sungkim/12_LAB1_RNN_Basics.ipynb\n",
      " delete mode 100644 tensorflow/sungkim/12_LAB6_.ipynb\n",
      " create mode 100644 tensorflow/sungkim/12_LAB6_RNN with time series data(stock).ipynb\n",
      "On branch master\n",
      "Your branch is ahead of 'origin/master' by 1 commit.\n",
      "  (use \"git push\" to publish your local commits)\n",
      "\n",
      "nothing to commit, working tree clean\n"
     ]
    }
   ],
   "source": [
    "!git commit -m \"notebook update\"\n",
    "!git status"
   ]
  },
  {
   "cell_type": "code",
   "execution_count": null,
   "metadata": {},
   "outputs": [
    {
     "name": "stdout",
     "output_type": "stream",
     "text": [
      "Counting objects: 14, done.\n",
      "Delta compression using up to 4 threads.\n",
      "Compressing objects: 100% (14/14), done.\n",
      "Writing objects: 100% (14/14), 380.90 KiB | 4.28 MiB/s, done.\n",
      "Total 14 (delta 9), reused 0 (delta 0)\n"
     ]
    }
   ],
   "source": [
    "!git push -u origin master"
   ]
  }
 ],
 "metadata": {
  "kernelspec": {
   "display_name": "Python 3",
   "language": "python",
   "name": "python3"
  },
  "language_info": {
   "codemirror_mode": {
    "name": "ipython",
    "version": 3
   },
   "file_extension": ".py",
   "mimetype": "text/x-python",
   "name": "python",
   "nbconvert_exporter": "python",
   "pygments_lexer": "ipython3",
   "version": "3.5.4"
  }
 },
 "nbformat": 4,
 "nbformat_minor": 2
}
