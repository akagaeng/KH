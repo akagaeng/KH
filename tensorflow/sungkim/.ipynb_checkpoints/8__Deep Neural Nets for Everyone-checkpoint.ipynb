{
 "cells": [
  {
   "cell_type": "markdown",
   "metadata": {},
   "source": [
    "# 8 Deep Neural Nets for Everyone\n",
    "- [강의 동영상 8-1](https://youtu.be/n7DNueHGkqE): 딥러닝의 기본 개념: 시작과 XOR 문제\n",
    "- [강의 동영상 8-2](https://youtu.be/AByVbUX1PUI): 딥러닝의 기본 개념2: Back-propagation 과 2006/2007 '딥'의 출현\n",
    "- [강의 슬라이드 8-1, 8-2](https://hunkim.github.io/ml/lec8.pdf)"
   ]
  }
 ],
 "metadata": {
  "kernelspec": {
   "display_name": "Python 3",
   "language": "python",
   "name": "python3"
  },
  "language_info": {
   "codemirror_mode": {
    "name": "ipython",
    "version": 3
   },
   "file_extension": ".py",
   "mimetype": "text/x-python",
   "name": "python",
   "nbconvert_exporter": "python",
   "pygments_lexer": "ipython3",
   "version": "3.5.4"
  }
 },
 "nbformat": 4,
 "nbformat_minor": 2
}
