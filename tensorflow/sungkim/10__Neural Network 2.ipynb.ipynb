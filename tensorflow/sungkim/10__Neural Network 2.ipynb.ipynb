{
 "cells": [
  {
   "cell_type": "markdown",
   "metadata": {},
   "source": [
    "# 10. Neural Network 2: ReLU and 초기값 정하기 (2006/2007 breakthrough)\n",
    "- [강의 동영상 10-1](https://youtu.be/cKtg_fpw88c): XSigmoid 보다 ReLU가 더 좋아\n",
    "- [강의 동영상 10-2](https://youtu.be/4rC0sWrp3Uw): Weight 초기화 잘해보자\n",
    "- [강의 동영상 10-3](https://youtu.be/wTxMsp22llc): Dropout 과 앙상블\n",
    "- [강의 동영상 10-4](https://youtu.be/YHsbHjTBx9Q): 레고처럼 넷트웍 모듈을 마음껏 쌓아 보자\n",
    "- [강의 슬라이드 10-1, 10-2, 10-3, 10-4](https://hunkim.github.io/ml/lec10.pdf)"
   ]
  },
  {
   "cell_type": "markdown",
   "metadata": {},
   "source": [
    "## Let's go deep & wide!\n",
    "- sigmoid 함수와 같은 함수를 activate function이라고 한다.\n",
    "- 일정 조건을 갖추면 active가 되고 그렇지 않으면 active가 되지 않는다.\n",
    "\n",
    "### Vanishing gradient\n",
    "\n",
    "여기부터\n",
    "\n",
    "- Layer의 구분\n",
    "\n",
    "**input layer | hiden layer(여러 층으로 구성) | output layer**\n",
    "\n"
   ]
  }
 ],
 "metadata": {
  "kernelspec": {
   "display_name": "Python 3",
   "language": "python",
   "name": "python3"
  },
  "language_info": {
   "codemirror_mode": {
    "name": "ipython",
    "version": 3
   },
   "file_extension": ".py",
   "mimetype": "text/x-python",
   "name": "python",
   "nbconvert_exporter": "python",
   "pygments_lexer": "ipython3",
   "version": "3.5.4"
  }
 },
 "nbformat": 4,
 "nbformat_minor": 2
}
