{
 "cells": [
  {
   "cell_type": "markdown",
   "metadata": {},
   "source": [
    "# [LAB 5] Logistic (regression) classifier\n",
    "\n",
    "- [실습 동영상 5](https://youtu.be/2FeWGgnyLSw)\n",
    "- [실습 슬라이드 5](https://docs.google.com/presentation/d/180ZISPNRVWYKyV61xoZepZ_KVUK6mujIXuwXE0eKZuM)\n"
   ]
  },
  {
   "cell_type": "markdown",
   "metadata": {},
   "source": [
    "## Logistic Regression\n",
    "$$H(X) = \\frac{1}{1+e^{-W^{T}X}}$$\n",
    "\n",
    "$$ cost(W) = \\frac{1}{m}\\sum -ylog(H(x)) - (1-y)log(1-H(x)) $$\n",
    "\n",
    "$$ W := W - \\alpha\\frac{\\partial}{\\partial W}cost(W)$$\n",
    "\n",
    "- 예측한 H(x) 값과 실제 y 값이 가까울수록 cost(W)가 작은 값이 나옴 (cost가 작은 값이 나오도록하는 W를 찾는 것이 목표, 학습 과정)\n",
    "- Logistic regression의 cost function도 Linear Regression의 cost(W)의 형태와 유사하므로 gradient descent 사용 가능!\n"
   ]
  },
  {
   "cell_type": "code",
   "execution_count": null,
   "metadata": {},
   "outputs": [],
   "source": [
    "# "
   ]
  }
 ],
 "metadata": {
  "kernelspec": {
   "display_name": "Python 3",
   "language": "python",
   "name": "python3"
  },
  "language_info": {
   "codemirror_mode": {
    "name": "ipython",
    "version": 3
   },
   "file_extension": ".py",
   "mimetype": "text/x-python",
   "name": "python",
   "nbconvert_exporter": "python",
   "pygments_lexer": "ipython3",
   "version": "3.5.4"
  }
 },
 "nbformat": 4,
 "nbformat_minor": 2
}
