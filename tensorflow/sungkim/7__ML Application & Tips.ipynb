{
 "cells": [
  {
   "cell_type": "markdown",
   "metadata": {},
   "source": [
    "# 7. ML Application & Tips\n",
    "- [강의 동영상 7-1](https://youtu.be/1jPjVoDV_uo): Learning rate, data preprocessing, overfitting\n",
    "- [강의 동영상 7-2](https://youtu.be/KVv1nMSlPzY): Learning and test data sets\n",
    "- [강의 슬라이드 7-1, 7-2](https://hunkim.github.io/ml/lec7.pdf)\n"
   ]
  }
 ],
 "metadata": {
  "kernelspec": {
   "display_name": "Python 3",
   "language": "python",
   "name": "python3"
  },
  "language_info": {
   "codemirror_mode": {
    "name": "ipython",
    "version": 3
   },
   "file_extension": ".py",
   "mimetype": "text/x-python",
   "name": "python",
   "nbconvert_exporter": "python",
   "pygments_lexer": "ipython3",
   "version": "3.5.4"
  }
 },
 "nbformat": 4,
 "nbformat_minor": 2
}
