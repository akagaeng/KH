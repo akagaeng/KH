{
 "cells": [
  {
   "cell_type": "markdown",
   "metadata": {},
   "source": [
    "# [LAB 5] Logistic (regression) classification\n",
    "\n",
    "- [강의 동영상 5-1](https://youtu.be/PIjno6paszY)\n",
    "- [강의 동영상 5-2](https://youtu.be/6vzchGYEJBc)\n",
    "- [강의 슬라이드 5-1, 5-2](https://hunkim.github.io/ml/lec5.pdf)\n"
   ]
  }
 ],
 "metadata": {
  "kernelspec": {
   "display_name": "Python 3",
   "language": "python",
   "name": "python3"
  },
  "language_info": {
   "codemirror_mode": {
    "name": "ipython",
    "version": 3
   },
   "file_extension": ".py",
   "mimetype": "text/x-python",
   "name": "python",
   "nbconvert_exporter": "python",
   "pygments_lexer": "ipython3",
   "version": "3.5.4"
  }
 },
 "nbformat": 4,
 "nbformat_minor": 2
}
